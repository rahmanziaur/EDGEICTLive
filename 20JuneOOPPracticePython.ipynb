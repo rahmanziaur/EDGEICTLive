{
  "nbformat": 4,
  "nbformat_minor": 0,
  "metadata": {
    "colab": {
      "provenance": [],
      "authorship_tag": "ABX9TyNNRIXYnLJUU8ZHVrPDMjao",
      "include_colab_link": true
    },
    "kernelspec": {
      "name": "python3",
      "display_name": "Python 3"
    },
    "language_info": {
      "name": "python"
    }
  },
  "cells": [
    {
      "cell_type": "markdown",
      "metadata": {
        "id": "view-in-github",
        "colab_type": "text"
      },
      "source": [
        "<a href=\"https://colab.research.google.com/github/rahmanziaur/EDGEICTLive/blob/main/20JuneOOPPracticePython.ipynb\" target=\"_parent\"><img src=\"https://colab.research.google.com/assets/colab-badge.svg\" alt=\"Open In Colab\"/></a>"
      ]
    },
    {
      "cell_type": "markdown",
      "source": [
        "**### Develop two classes to test how a function and contructor are bound to each other.**"
      ],
      "metadata": {
        "id": "5bxaOwl9_vgB"
      }
    },
    {
      "cell_type": "code",
      "execution_count": 4,
      "metadata": {
        "id": "i1mg2nZw_pQT"
      },
      "outputs": [],
      "source": [
        "class Cow:\n",
        "\n",
        "    def __init__(self):\n",
        "        self.cowDict = {}\n",
        "\n",
        "    def updateDict(self, name, location):\n",
        "        self.cowDict.update({name: location})\n",
        "\n",
        "    # def view(self):\n",
        "    #     print(self.cowDict)\n",
        "    #     #print(\"Location:\", self.locationList)\n",
        "    def __str__(self):\n",
        "        return str(self.cowDict)"
      ]
    },
    {
      "cell_type": "code",
      "source": [
        "!python Cow1.py"
      ],
      "metadata": {
        "id": "u6Y2EGhXtt0w"
      },
      "execution_count": 15,
      "outputs": []
    },
    {
      "cell_type": "code",
      "source": [
        "%%writefile Cow1.py"
      ],
      "metadata": {
        "colab": {
          "base_uri": "https://localhost:8080/"
        },
        "id": "5T97P0mdryGM",
        "outputId": "425be9d3-6834-4c32-aab5-58ae760b4d60"
      },
      "execution_count": 1,
      "outputs": [
        {
          "output_type": "stream",
          "name": "stdout",
          "text": [
            "Writing Cow1.py\n"
          ]
        }
      ]
    },
    {
      "cell_type": "code",
      "source": [],
      "metadata": {
        "id": "4ujlnnbrsI1p"
      },
      "execution_count": null,
      "outputs": []
    },
    {
      "cell_type": "code",
      "source": [
        "!wget 'https://raw.githubusercontent.com/rahmanziaur/EDGEICTLive/refs/heads/main/Cow.py'"
      ],
      "metadata": {
        "colab": {
          "base_uri": "https://localhost:8080/"
        },
        "id": "ssznCLfpBFR3",
        "outputId": "fb3e04a7-4af4-4fd9-f3b0-fd65936bcd8c"
      },
      "execution_count": 6,
      "outputs": [
        {
          "output_type": "stream",
          "name": "stdout",
          "text": [
            "--2025-06-19 11:49:38--  https://raw.githubusercontent.com/rahmanziaur/EDGEICTLive/refs/heads/main/Cow.py\n",
            "Resolving raw.githubusercontent.com (raw.githubusercontent.com)... 185.199.109.133, 185.199.110.133, 185.199.108.133, ...\n",
            "Connecting to raw.githubusercontent.com (raw.githubusercontent.com)|185.199.109.133|:443... connected.\n",
            "HTTP request sent, awaiting response... 200 OK\n",
            "Length: 256 [text/plain]\n",
            "Saving to: ‘Cow.py’\n",
            "\n",
            "\rCow.py                0%[                    ]       0  --.-KB/s               \rCow.py              100%[===================>]     256  --.-KB/s    in 0s      \n",
            "\n",
            "2025-06-19 11:49:38 (14.2 MB/s) - ‘Cow.py’ saved [256/256]\n",
            "\n"
          ]
        }
      ]
    },
    {
      "cell_type": "code",
      "source": [
        "import Cow1 as cw #importing Cow module as cw\n",
        "\n",
        "class MainClass: # creating a new class\n",
        "    def __init__(self): #constructor of MainCLass, do nothing\n",
        "        pass"
      ],
      "metadata": {
        "id": "_koXdhm-ARKc"
      },
      "execution_count": 16,
      "outputs": []
    },
    {
      "cell_type": "code",
      "source": [
        "if __name__=='__main__': #main method of MainClass\n",
        "\n",
        "        print('Enter Cowname and Location or press name -1 to exit')\n",
        "        #op = input('Enter option -1 to exit')\n",
        "        cobj = cw.Cow()\n",
        "\n",
        "        while True:\n",
        "            name = input('Enter Cow Name:')\n",
        "            if name == '-1': break\n",
        "            location = input('Enter Location:')\n",
        "            cobj.updateDict(name,location)\n",
        "        print(cobj)"
      ],
      "metadata": {
        "colab": {
          "base_uri": "https://localhost:8080/"
        },
        "id": "PVX_A9Xl5iRF",
        "outputId": "fd118f69-c5a3-4c8a-831a-85e00e7546e1"
      },
      "execution_count": 17,
      "outputs": [
        {
          "output_type": "stream",
          "name": "stdout",
          "text": [
            "Enter Cowname and Location or press name -1 to exit\n",
            "Enter Cow Name:Kala Manki\n",
            "Enter Location:Dhaka\n",
            "Enter Cow Name:Cow2\n",
            "Enter Location:Rajshahi\n",
            "Enter Cow Name:-1\n",
            "<Cow1.Cow object at 0x7d8a5c675850>\n"
          ]
        }
      ]
    },
    {
      "cell_type": "code",
      "source": [
        "class Test:\n",
        "  pass"
      ],
      "metadata": {
        "id": "2gFqsHudxtL3"
      },
      "execution_count": 7,
      "outputs": []
    },
    {
      "cell_type": "code",
      "source": [
        "print(Test())"
      ],
      "metadata": {
        "colab": {
          "base_uri": "https://localhost:8080/"
        },
        "id": "4kunXKxwxyDI",
        "outputId": "53bfd543-a63b-4ce0-cd76-f6f5e0809fdb"
      },
      "execution_count": 9,
      "outputs": [
        {
          "output_type": "stream",
          "name": "stdout",
          "text": [
            "<__main__.Test object at 0x7d8a5fa54ed0>\n"
          ]
        }
      ]
    },
    {
      "cell_type": "code",
      "source": [
        "print(Test())"
      ],
      "metadata": {
        "colab": {
          "base_uri": "https://localhost:8080/"
        },
        "id": "V9GhkEs3zrLi",
        "outputId": "a0a29aa8-d45b-4884-ec61-180247a81779"
      },
      "execution_count": 10,
      "outputs": [
        {
          "output_type": "stream",
          "name": "stdout",
          "text": [
            "<__main__.Test object at 0x7d8a5fac24d0>\n"
          ]
        }
      ]
    },
    {
      "cell_type": "code",
      "source": [
        "# Cow1.py (or save as separate file)\n",
        "class Cow:\n",
        "    def __init__(self):\n",
        "        self.cowDict = {}\n",
        "\n",
        "    def updateDict(self, name, location):\n",
        "        self.cowDict.update({name: location})\n",
        "\n",
        "    # def view(self):\n",
        "    #     print(self.cowDict)\n",
        "\n",
        "    def __str__(self):\n",
        "        if not self.cowDict:\n",
        "            return \"No cows registered\"\n",
        "        return f\"Cow Dictionary: {self.cowDict}\""
      ],
      "metadata": {
        "id": "jGNmvR5cETNS"
      },
      "execution_count": 18,
      "outputs": []
    },
    {
      "cell_type": "code",
      "source": [
        "%%writefile Cow.py"
      ],
      "metadata": {
        "colab": {
          "base_uri": "https://localhost:8080/"
        },
        "id": "RnywhK7tEeiJ",
        "outputId": "c4d72bcd-5aa5-4fce-9603-340be73286c8"
      },
      "execution_count": 20,
      "outputs": [
        {
          "output_type": "stream",
          "name": "stdout",
          "text": [
            "Writing Cow.py\n"
          ]
        }
      ]
    },
    {
      "cell_type": "code",
      "source": [
        "!python Cow.py"
      ],
      "metadata": {
        "id": "FFPFdLNqE8C3"
      },
      "execution_count": 23,
      "outputs": []
    },
    {
      "cell_type": "code",
      "source": [
        "# main.py (main program)\n",
        "import Cow as cw  # importing Cow module as cw\n",
        "\n",
        "\n",
        "class MainClass:  # creating a new class\n",
        "    def __init__(self):  # constructor of MainClass, do nothing\n",
        "        pass\n"
      ],
      "metadata": {
        "colab": {
          "base_uri": "https://localhost:8080/",
          "height": 238
        },
        "id": "FL175RdWEY5j",
        "outputId": "52dc5d04-f9c1-42f6-a62e-426affc6ebcc"
      },
      "execution_count": 24,
      "outputs": [
        {
          "output_type": "stream",
          "name": "stdout",
          "text": [
            "Enter Cowname and Location or press name -1 to exit\n"
          ]
        },
        {
          "output_type": "error",
          "ename": "AttributeError",
          "evalue": "module 'Cow' has no attribute 'Cow'",
          "traceback": [
            "\u001b[0;31m---------------------------------------------------------------------------\u001b[0m",
            "\u001b[0;31mAttributeError\u001b[0m                            Traceback (most recent call last)",
            "\u001b[0;32m/tmp/ipython-input-24-1594471948.py\u001b[0m in \u001b[0;36m<cell line: 0>\u001b[0;34m()\u001b[0m\n\u001b[1;32m     10\u001b[0m \u001b[0;32mif\u001b[0m \u001b[0m__name__\u001b[0m \u001b[0;34m==\u001b[0m \u001b[0;34m'__main__'\u001b[0m\u001b[0;34m:\u001b[0m  \u001b[0;31m# main method\u001b[0m\u001b[0;34m\u001b[0m\u001b[0;34m\u001b[0m\u001b[0m\n\u001b[1;32m     11\u001b[0m     \u001b[0mprint\u001b[0m\u001b[0;34m(\u001b[0m\u001b[0;34m'Enter Cowname and Location or press name -1 to exit'\u001b[0m\u001b[0;34m)\u001b[0m\u001b[0;34m\u001b[0m\u001b[0;34m\u001b[0m\u001b[0m\n\u001b[0;32m---> 12\u001b[0;31m     \u001b[0mcobj\u001b[0m \u001b[0;34m=\u001b[0m \u001b[0mcw\u001b[0m\u001b[0;34m.\u001b[0m\u001b[0mCow\u001b[0m\u001b[0;34m(\u001b[0m\u001b[0;34m)\u001b[0m\u001b[0;34m\u001b[0m\u001b[0;34m\u001b[0m\u001b[0m\n\u001b[0m\u001b[1;32m     13\u001b[0m \u001b[0;34m\u001b[0m\u001b[0m\n\u001b[1;32m     14\u001b[0m     \u001b[0;32mwhile\u001b[0m \u001b[0;32mTrue\u001b[0m\u001b[0;34m:\u001b[0m\u001b[0;34m\u001b[0m\u001b[0;34m\u001b[0m\u001b[0m\n",
            "\u001b[0;31mAttributeError\u001b[0m: module 'Cow' has no attribute 'Cow'"
          ]
        }
      ]
    },
    {
      "cell_type": "code",
      "source": [
        "import Cow as cw\n",
        "if __name__ == '__main__':  # main method\n",
        "    print('Enter Cowname and Location or press name -1 to exit')\n",
        "    cobj = cw.Cow()\n",
        "\n",
        "    while True:\n",
        "        name = input('Enter Cow Name: ')\n",
        "        if name == '-1':\n",
        "            break\n",
        "        location = input('Enter Location: ')\n",
        "        cobj.updateDict(name, location)\n",
        "\n",
        "    print(cobj)"
      ],
      "metadata": {
        "colab": {
          "base_uri": "https://localhost:8080/",
          "height": 238
        },
        "id": "_7jBy5LgFIWN",
        "outputId": "1503cea3-04fe-4d79-e40a-914d279ee92d"
      },
      "execution_count": 26,
      "outputs": [
        {
          "output_type": "stream",
          "name": "stdout",
          "text": [
            "Enter Cowname and Location or press name -1 to exit\n"
          ]
        },
        {
          "output_type": "error",
          "ename": "AttributeError",
          "evalue": "module 'Cow' has no attribute 'Cow'",
          "traceback": [
            "\u001b[0;31m---------------------------------------------------------------------------\u001b[0m",
            "\u001b[0;31mAttributeError\u001b[0m                            Traceback (most recent call last)",
            "\u001b[0;32m/tmp/ipython-input-26-4138579482.py\u001b[0m in \u001b[0;36m<cell line: 0>\u001b[0;34m()\u001b[0m\n\u001b[1;32m      2\u001b[0m \u001b[0;32mif\u001b[0m \u001b[0m__name__\u001b[0m \u001b[0;34m==\u001b[0m \u001b[0;34m'__main__'\u001b[0m\u001b[0;34m:\u001b[0m  \u001b[0;31m# main method\u001b[0m\u001b[0;34m\u001b[0m\u001b[0;34m\u001b[0m\u001b[0m\n\u001b[1;32m      3\u001b[0m     \u001b[0mprint\u001b[0m\u001b[0;34m(\u001b[0m\u001b[0;34m'Enter Cowname and Location or press name -1 to exit'\u001b[0m\u001b[0;34m)\u001b[0m\u001b[0;34m\u001b[0m\u001b[0;34m\u001b[0m\u001b[0m\n\u001b[0;32m----> 4\u001b[0;31m     \u001b[0mcobj\u001b[0m \u001b[0;34m=\u001b[0m \u001b[0mcw\u001b[0m\u001b[0;34m.\u001b[0m\u001b[0mCow\u001b[0m\u001b[0;34m(\u001b[0m\u001b[0;34m)\u001b[0m\u001b[0;34m\u001b[0m\u001b[0;34m\u001b[0m\u001b[0m\n\u001b[0m\u001b[1;32m      5\u001b[0m \u001b[0;34m\u001b[0m\u001b[0m\n\u001b[1;32m      6\u001b[0m     \u001b[0;32mwhile\u001b[0m \u001b[0;32mTrue\u001b[0m\u001b[0;34m:\u001b[0m\u001b[0;34m\u001b[0m\u001b[0;34m\u001b[0m\u001b[0m\n",
            "\u001b[0;31mAttributeError\u001b[0m: module 'Cow' has no attribute 'Cow'"
          ]
        }
      ]
    },
    {
      "cell_type": "markdown",
      "source": [
        "**Try to read dict item one by one using loop?**"
      ],
      "metadata": {
        "id": "OlyPttCCCQeX"
      }
    }
  ]
}