{
  "cells": [
    {
      "cell_type": "markdown",
      "metadata": {
        "id": "view-in-github",
        "colab_type": "text"
      },
      "source": [
        "<a href=\"https://colab.research.google.com/github/rahmanziaur/EDGEICTLive/blob/main/FirstClass49.ipynb\" target=\"_parent\"><img src=\"https://colab.research.google.com/assets/colab-badge.svg\" alt=\"Open In Colab\"/></a>"
      ]
    },
    {
      "cell_type": "code",
      "source": [
        "import math\n",
        "\n",
        "def ramanujan_pi(terms=5):\n",
        "    \"\"\"Calculate pi using Ramanujan's series.\"\"\"\n",
        "    sum_series = 0\n",
        "    for k in range(terms):\n",
        "        # Calculating factorials\n",
        "        fact_4k = math.factorial(4 * k)\n",
        "        fact_k = math.factorial(k)\n",
        "\n",
        "        # Applying the Ramanujan formula for each term\n",
        "        numerator = fact_4k * (1103 + 26390 * k)\n",
        "        denominator = (fact_k ** 4) * (396 ** (4 * k))\n",
        "        sum_series += numerator / denominator\n",
        "\n",
        "    # The constant factor before the sum is (2 * sqrt(2)) / 9801\n",
        "    factor = (2 * math.sqrt(2)) / 9801\n",
        "\n",
        "    # The approximation of pi\n",
        "    pi_approx = 1 / (factor * sum_series)\n",
        "\n",
        "    return pi_approx\n",
        "\n",
        "# Example usage\n",
        "terms = 5  # Number of terms in the series (higher values give more accurate results)\n",
        "calculated_pi = ramanujan_pi(terms)\n",
        "print(f\"Approximation of pi using {terms} terms: {calculated_pi}\")\n"
      ],
      "metadata": {
        "colab": {
          "base_uri": "https://localhost:8080/"
        },
        "id": "n3HEmhtvLUYI",
        "outputId": "ce384909-d3d1-40be-a3b3-9658868eb55c"
      },
      "execution_count": 1,
      "outputs": [
        {
          "output_type": "stream",
          "name": "stdout",
          "text": [
            "Approximation of pi using 5 terms: 3.141592653589793\n"
          ]
        }
      ]
    },
    {
      "cell_type": "code",
      "source": [
        "### Calculate PI up to given digits and sum all the digits after decimal.\n",
        "\n",
        "from mpmath import mp\n",
        "\n",
        "def calculate_pi_and_sum_digits(decimal_places):\n",
        "    # Set the precision for pi calculation\n",
        "    mp.dps = decimal_places + 2  # Extra precision to avoid rounding issues\n",
        "    pi_value = str(mp.pi)\n",
        "\n",
        "    # Get the digits after the decimal point\n",
        "    digits_after_decimal = pi_value.split('.')[1][:decimal_places]\n",
        "\n",
        "    # Sum all the digits after the decimal point\n",
        "    digit_sum = sum(int(digit) for digit in digits_after_decimal)\n",
        "\n",
        "    return pi_value[:decimal_places + 2], digit_sum\n",
        "\n",
        "\n",
        "# Input the number of decimal places\n",
        "decimal_places = int(input(\"Enter the number of decimal places for π: \"))\n",
        "\n",
        "# Calculate and display the result\n",
        "pi_value, digit_sum = calculate_pi_and_sum_digits(decimal_places)\n",
        "print(f\"π to {decimal_places} decimal places: {pi_value}\")\n",
        "print(f\"Sum of digits after the decimal point: {digit_sum}\")"
      ],
      "metadata": {
        "colab": {
          "base_uri": "https://localhost:8080/"
        },
        "id": "rGvHoMGMOhg4",
        "outputId": "62e5d4f4-e8e5-43f6-995f-10ad734e57a6"
      },
      "execution_count": 2,
      "outputs": [
        {
          "output_type": "stream",
          "name": "stdout",
          "text": [
            "Enter the number of decimal places for π: 144\n",
            "π to 144 decimal places: 3.141592653589793238462643383279502884197169399375105820974944592307816406286208998628034825342117067982148086513282306647093844609550582231725359\n",
            "Sum of digits after the decimal point: 666\n"
          ]
        }
      ]
    },
    {
      "cell_type": "code",
      "source": [
        "# EDGEICT\n",
        "\n",
        "import pandas as pd\n",
        "\n",
        "# Load the CSV file\n",
        "csv_file = 'https://raw.githubusercontent.com/rahmanziaur/EDGEICTLive/refs/heads/main/Batch49EDGE/Untitled%20form%20(Responses)%20-%20Form%20Responses%201.csv'  # Replace with the path to your CSV file\n",
        "data = pd.read_csv(csv_file)\n",
        "\n",
        "# Ensure the 'Email' column exists\n",
        "if 'Full Name' in data.columns:\n",
        "    # Extract email addresses and join them with commas\n",
        "    email_addresses = ', '.join(data['Full Name'].dropna().astype(str).tolist())\n",
        "    print(email_addresses)\n",
        "else:\n",
        "    print(\"The 'Email' column does not exist in the CSV file.\")"
      ],
      "metadata": {
        "id": "ef_qV0G6cD9W",
        "outputId": "6f1db967-e837-4e6e-eb7e-9848718b6722",
        "colab": {
          "base_uri": "https://localhost:8080/"
        }
      },
      "execution_count": 5,
      "outputs": [
        {
          "output_type": "stream",
          "name": "stdout",
          "text": [
            "Faty All Subbir Kallal, Md.Rayhan Ahmed, Kazi Umme Kulsum , Monir hossain , Mst. Esrat Jahan Esha, Lamia Mosharrat , jannat ara jui, Zahidul Islam Rakib , MD.Babul Mia, Rakib miah, Md Rashedul Islam, Rokaiya Binte Zahid , Md Sobuj Mia, MD.SHAJIB TALUKDER, Md Sobuj Mia\n"
          ]
        }
      ]
    }
  ],
  "metadata": {
    "colab": {
      "name": "Welcome To Colab",
      "toc_visible": true,
      "provenance": [],
      "include_colab_link": true
    },
    "kernelspec": {
      "display_name": "Python 3",
      "name": "python3"
    }
  },
  "nbformat": 4,
  "nbformat_minor": 0
}