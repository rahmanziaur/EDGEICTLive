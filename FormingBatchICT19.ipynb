{
  "nbformat": 4,
  "nbformat_minor": 0,
  "metadata": {
    "colab": {
      "provenance": [],
      "authorship_tag": "ABX9TyO2hJI3gXgR3vW58WxoDTV8",
      "include_colab_link": true
    },
    "kernelspec": {
      "name": "python3",
      "display_name": "Python 3"
    },
    "language_info": {
      "name": "python"
    }
  },
  "cells": [
    {
      "cell_type": "markdown",
      "metadata": {
        "id": "view-in-github",
        "colab_type": "text"
      },
      "source": [
        "<a href=\"https://colab.research.google.com/github/rahmanziaur/EDGEICTLive/blob/main/formingbatchict19.ipynb\" target=\"_parent\"><img src=\"https://colab.research.google.com/assets/colab-badge.svg\" alt=\"Open In Colab\"/></a>"
      ]
    },
    {
      "cell_type": "code",
      "execution_count": null,
      "metadata": {
        "colab": {
          "base_uri": "https://localhost:8080/"
        },
        "id": "1_CfgYPF23eG",
        "outputId": "150df288-2fe4-4091-9e85-ab97dda386d8"
      },
      "outputs": [
        {
          "output_type": "stream",
          "name": "stdout",
          "text": [
            "Sabbir Ahamad, Sahriar Ahmad Tarek, Annay Das, Abdullah Al Mamun Sagor, Imran Hamid, Md. Faim Montasir, Shakib Hossain, Abdur Rahim, Rajon Islam Noyon, Md. Shahin Mia, Mim Akter Mou , Suparna Rani Bristy, Imrose Ahanaf, Asrafun Nahar Asa, Jakirul Islam, Md. Rezowan Rahman Raj, Riya Saha, Nusrat Jahan Shamima, Abidur Rahman Mahid , Afifa Tahsin Haq , Choity, Rahat Bin Hafiz\n"
          ]
        }
      ],
      "source": [
        "# EDGEICT\n",
        "\n",
        "import pandas as pd\n",
        "\n",
        "# Load the CSV file\n",
        "csv_file = 'https://raw.githubusercontent.com/rahmanziaur/EDGEICTLive/refs/heads/main/R2B3ICT19/Python%20-%2051%20Batch%20Mail%20Address%20-%20Form%20responses%201%20(2).csv'  # Replace with the path to your CSV file\n",
        "data = pd.read_csv(csv_file)\n",
        "\n",
        "# Ensure the 'Email' column exists\n",
        "if 'Name' in data.columns:\n",
        "    # Extract email addresses and join them with commas\n",
        "    email_addresses = ', '.join(data['Name'].dropna().astype(str).tolist())\n",
        "    print(email_addresses)\n",
        "else:\n",
        "    print(\"The 'Email' column does not exist in the CSV file.\")\n"
      ]
    },
    {
      "cell_type": "code",
      "source": [
        "## more code\n",
        "print(\"This is test\")"
      ],
      "metadata": {
        "colab": {
          "base_uri": "https://localhost:8080/"
        },
        "id": "D-UoR4LwSDYN",
        "outputId": "0c70e9fe-a2bd-4717-cd4a-e840c0efcb09"
      },
      "execution_count": null,
      "outputs": [
        {
          "output_type": "stream",
          "name": "stdout",
          "text": [
            "This is test\n"
          ]
        }
      ]
    }
  ]
}