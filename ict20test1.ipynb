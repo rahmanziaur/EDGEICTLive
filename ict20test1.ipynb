{
  "nbformat": 4,
  "nbformat_minor": 0,
  "metadata": {
    "colab": {
      "provenance": [],
      "mount_file_id": "1jI4fJ7O3AU-P25iy7mdPL6ceYPkEoucR",
      "authorship_tag": "ABX9TyMrZDnQHLDaaCQ53LFfKcpz",
      "include_colab_link": true
    },
    "kernelspec": {
      "name": "python3",
      "display_name": "Python 3"
    },
    "language_info": {
      "name": "python"
    }
  },
  "cells": [
    {
      "cell_type": "markdown",
      "metadata": {
        "id": "view-in-github",
        "colab_type": "text"
      },
      "source": [
        "<a href=\"https://colab.research.google.com/github/rahmanziaur/EDGEICTLive/blob/main/ict20test1.ipynb\" target=\"_parent\"><img src=\"https://colab.research.google.com/assets/colab-badge.svg\" alt=\"Open In Colab\"/></a>"
      ]
    },
    {
      "cell_type": "code",
      "source": [
        "ict = ['C++','ICT2201',123,'Z',1.590]"
      ],
      "metadata": {
        "id": "QZR39-YK6Z0T"
      },
      "execution_count": null,
      "outputs": []
    },
    {
      "cell_type": "code",
      "source": [
        "for i in ict:\n",
        "  print(i, end=', ')"
      ],
      "metadata": {
        "colab": {
          "base_uri": "https://localhost:8080/"
        },
        "id": "Rl99JFr36qlq",
        "outputId": "c8c1669f-799c-4f38-b73c-94f2b946bd26"
      },
      "execution_count": null,
      "outputs": [
        {
          "output_type": "stream",
          "name": "stdout",
          "text": [
            "C++, ICT2201, 123, Z, 1.59, "
          ]
        }
      ]
    },
    {
      "cell_type": "code",
      "source": [
        "fruits = ['orange', 'apple', 'pear', 'banana', 'kiwi', 'apple', 'banana', 'Apple']"
      ],
      "metadata": {
        "id": "OWtiO0tl-B7j"
      },
      "execution_count": null,
      "outputs": []
    },
    {
      "cell_type": "code",
      "source": [
        "fruits.count('apple')\n"
      ],
      "metadata": {
        "colab": {
          "base_uri": "https://localhost:8080/"
        },
        "id": "6Ss7sy7w8Zz6",
        "outputId": "f2aecb5b-8f75-419c-b0af-b4de19822170"
      },
      "execution_count": null,
      "outputs": [
        {
          "output_type": "execute_result",
          "data": {
            "text/plain": [
              "2"
            ]
          },
          "metadata": {},
          "execution_count": 11
        }
      ]
    },
    {
      "cell_type": "code",
      "source": [
        "fruits.index('banana', 1)"
      ],
      "metadata": {
        "colab": {
          "base_uri": "https://localhost:8080/"
        },
        "id": "Sc0wlQOj-Zmr",
        "outputId": "4d698f88-c068-4a05-a25d-31d5add0ddf5"
      },
      "execution_count": null,
      "outputs": [
        {
          "output_type": "execute_result",
          "data": {
            "text/plain": [
              "3"
            ]
          },
          "metadata": {},
          "execution_count": 13
        }
      ]
    },
    {
      "cell_type": "code",
      "source": [
        "fruits.reverse()"
      ],
      "metadata": {
        "colab": {
          "base_uri": "https://localhost:8080/"
        },
        "id": "1QodikAB-pq7",
        "outputId": "9cb4ef21-2b4b-4f36-c97e-00198527c9de"
      },
      "execution_count": null,
      "outputs": [
        {
          "output_type": "stream",
          "name": "stdout",
          "text": [
            "None\n"
          ]
        }
      ]
    },
    {
      "cell_type": "code",
      "source": [
        "fruits"
      ],
      "metadata": {
        "colab": {
          "base_uri": "https://localhost:8080/"
        },
        "id": "grwYR5nC-xUp",
        "outputId": "06b49e23-6850-4a1d-c15c-951a5d1e870a"
      },
      "execution_count": null,
      "outputs": [
        {
          "output_type": "execute_result",
          "data": {
            "text/plain": [
              "['Apple', 'banana', 'apple', 'kiwi', 'banana', 'pear', 'apple', 'orange']"
            ]
          },
          "metadata": {},
          "execution_count": 17
        }
      ]
    },
    {
      "cell_type": "code",
      "source": [
        "fruits"
      ],
      "metadata": {
        "colab": {
          "base_uri": "https://localhost:8080/"
        },
        "id": "b6mp0B-w-5LR",
        "outputId": "a334671d-568a-40e1-e72f-87ce7f10b778"
      },
      "execution_count": null,
      "outputs": [
        {
          "output_type": "execute_result",
          "data": {
            "text/plain": [
              "['Apple',\n",
              " 'banana',\n",
              " 'apple',\n",
              " 'kiwi',\n",
              " 'banana',\n",
              " 'pear',\n",
              " 'apple',\n",
              " 'orange',\n",
              " 'grape']"
            ]
          },
          "metadata": {},
          "execution_count": 19
        }
      ]
    },
    {
      "cell_type": "code",
      "source": [
        "fruits.append('grape')"
      ],
      "metadata": {
        "id": "xfsTL_yB-zxJ"
      },
      "execution_count": null,
      "outputs": []
    },
    {
      "cell_type": "code",
      "source": [
        "fruits.pop(2)"
      ],
      "metadata": {
        "colab": {
          "base_uri": "https://localhost:8080/",
          "height": 36
        },
        "id": "PPIPYZdW_CTq",
        "outputId": "c7c8b050-2b6d-4fd8-f83b-ac8fb98730bf"
      },
      "execution_count": null,
      "outputs": [
        {
          "output_type": "execute_result",
          "data": {
            "text/plain": [
              "'apple'"
            ],
            "application/vnd.google.colaboratory.intrinsic+json": {
              "type": "string"
            }
          },
          "metadata": {},
          "execution_count": 22
        }
      ]
    },
    {
      "cell_type": "code",
      "source": [
        "fruits"
      ],
      "metadata": {
        "colab": {
          "base_uri": "https://localhost:8080/"
        },
        "id": "Qd-Q4xB0_E5B",
        "outputId": "29a8a4e6-0eca-4b64-eea0-bef140f81831"
      },
      "execution_count": null,
      "outputs": [
        {
          "output_type": "execute_result",
          "data": {
            "text/plain": [
              "['Apple', 'banana', 'kiwi', 'banana', 'pear', 'apple', 'orange']"
            ]
          },
          "metadata": {},
          "execution_count": 23
        }
      ]
    },
    {
      "cell_type": "code",
      "source": [
        "from math import pi\n",
        "print([str(round(pi,i)) for i in range(1,10)])"
      ],
      "metadata": {
        "colab": {
          "base_uri": "https://localhost:8080/"
        },
        "id": "cCNB5k1bnhkI",
        "outputId": "0d3c915b-f5a0-47df-cdc0-2f37f9f20b99"
      },
      "execution_count": null,
      "outputs": [
        {
          "output_type": "stream",
          "name": "stdout",
          "text": [
            "['3.1', '3.14', '3.142', '3.1416', '3.14159', '3.141593', '3.1415927', '3.14159265', '3.141592654']\n"
          ]
        }
      ]
    },
    {
      "cell_type": "code",
      "source": [
        "list1 = [1,2,3,4]\n",
        "list2 = [5,6,7,8]\n",
        "list3 = [9,10,11,12]\n",
        "nestedList=[list1,list2,list3]\n",
        "\n",
        "for row in nestedList:\n",
        "  for col in row:\n",
        "    print(col, end='--')\n",
        "  print()\n"
      ],
      "metadata": {
        "colab": {
          "base_uri": "https://localhost:8080/"
        },
        "id": "So87dDZSoI3Z",
        "outputId": "f3e3573a-db10-4915-fe9a-839f08f7dd87"
      },
      "execution_count": null,
      "outputs": [
        {
          "output_type": "stream",
          "name": "stdout",
          "text": [
            "1--2--3--4--\n",
            "5--6--7--8--\n",
            "9--10--11--12--\n"
          ]
        }
      ]
    },
    {
      "cell_type": "code",
      "source": [
        "#nested list comprehension, built 3x4 matrix\n",
        "matrix = [[i for i in range(1,5)],[i for i in range(5,9)], [i for i in range(9,13)]]\n",
        "print(matrix)\n",
        "\n",
        "#tranpose the matrix manually\n",
        "print([[row[i] for row in matrix] for i in range(len(matrix)+1)])"
      ],
      "metadata": {
        "colab": {
          "base_uri": "https://localhost:8080/"
        },
        "id": "NtYSgoizpljc",
        "outputId": "56b3b6ef-a167-40b5-e270-022591eede14"
      },
      "execution_count": null,
      "outputs": [
        {
          "output_type": "stream",
          "name": "stdout",
          "text": [
            "[[1, 2, 3, 4], [5, 6, 7, 8], [9, 10, 11, 12]]\n",
            "[[1, 5, 9], [2, 6, 10], [3, 7, 11], [4, 8, 12]]\n"
          ]
        }
      ]
    },
    {
      "cell_type": "code",
      "source": [
        "# prompt: add comma after each emai\n",
        "# it23039@mbstu.ac.bd\n",
        "# it23044@mbstu.ac.bd\n",
        "# it23043@mbstu.ac.bd\n",
        "# it23051@mbstu.ac.bd\n",
        "# it23033@mbstu.ac.bd\n",
        "# it22023@mbstu.ac.bd\n",
        "# it22028@mbstu.ac.bd\n",
        "# it23001@mbstu.ac.bd\n",
        "# it23020@mbstu.ac.bd\n",
        "# it23032@mbstu.ac.bd\n",
        "# it23036@mbstu.ac.bd\n",
        "# it23024@mbstu.ac.bd\n",
        "# it23016@mbstu.ac.bd\n",
        "# it23037@mbstu.ac.bd\n",
        "# it23003@mbstu.ac.bd\n",
        "# it23031@mbstu.ac.bd\n",
        "# it23012@mbstu.ac.bd\n",
        "# it23054@mbstu.ac.bd\n",
        "# it23029@mbstu.ac.bd\n",
        "# it23040@mbstu.ac.bd\n",
        "# it23028@mbstu.ac.bd\n",
        "# it23055@mbstu.ac.bd\n",
        "# it23008@mbstu.ac.bd\n",
        "# it21021@mbstu.ac.bd\n",
        "# it21010@mbstu.ac.bd\n",
        "# it23026@mbstu.ac.bd\n",
        "# it23034@mbstu.ac.bd\n",
        "# it21031@mbstu.ac.bd\n",
        "# it23045@mbstu.ac.bd\n",
        "# it23048@mbstu.ac.bd\n",
        "\n",
        "emails = \"\"\"it23039@mbstu.ac.bd\n",
        "it23044@mbstu.ac.bd\n",
        "it23043@mbstu.ac.bd\n",
        "it23051@mbstu.ac.bd\n",
        "it23033@mbstu.ac.bd\n",
        "it22023@mbstu.ac.bd\n",
        "it22028@mbstu.ac.bd\n",
        "it23001@mbstu.ac.bd\n",
        "it23020@mbstu.ac.bd\n",
        "it23032@mbstu.ac.bd\n",
        "it23036@mbstu.ac.bd\n",
        "it23024@mbstu.ac.bd\n",
        "it23016@mbstu.ac.bd\n",
        "it23037@mbstu.ac.bd\n",
        "it23003@mbstu.ac.bd\n",
        "it23031@mbstu.ac.bd\n",
        "it23012@mbstu.ac.bd\n",
        "it23054@mbstu.ac.bd\n",
        "it23029@mbstu.ac.bd\n",
        "it23040@mbstu.ac.bd\n",
        "it23028@mbstu.ac.bd\n",
        "it23055@mbstu.ac.bd\n",
        "it23008@mbstu.ac.bd\n",
        "it21021@mbstu.ac.bd\n",
        "it21010@mbstu.ac.bd\n",
        "it23026@mbstu.ac.bd\n",
        "it23034@mbstu.ac.bd\n",
        "it21031@mbstu.ac.bd\n",
        "it23045@mbstu.ac.bd\n",
        "it23048@mbstu.ac.bd\"\"\"\n",
        "\n",
        "emails_list = emails.split('\\n')\n",
        "comma_separated_emails = \", \".join(emails_list)\n",
        "comma_separated_emails"
      ],
      "metadata": {
        "id": "kLPCfpB4ua8T"
      },
      "execution_count": null,
      "outputs": []
    },
    {
      "cell_type": "code",
      "source": [
        "emails = \"\"\"it23039@mbstu.ac.bd\n",
        "it23044@mbstu.ac.bd\n",
        "it23043@mbstu.ac.bd\n",
        "it23051@mbstu.ac.bd\n",
        "it23033@mbstu.ac.bd\n",
        "it22023@mbstu.ac.bd\n",
        "it22028@mbstu.ac.bd\n",
        "it23001@mbstu.ac.bd\n",
        "it23020@mbstu.ac.bd\n",
        "it23032@mbstu.ac.bd\n",
        "it23036@mbstu.ac.bd\n",
        "it23024@mbstu.ac.bd\n",
        "it23016@mbstu.ac.bd\n",
        "it23037@mbstu.ac.bd\n",
        "it23003@mbstu.ac.bd\n",
        "it23031@mbstu.ac.bd\n",
        "it23012@mbstu.ac.bd\n",
        "it23054@mbstu.ac.bd\n",
        "it23029@mbstu.ac.bd\n",
        "it23040@mbstu.ac.bd\n",
        "it23028@mbstu.ac.bd\n",
        "it23055@mbstu.ac.bd\n",
        "it23008@mbstu.ac.bd\n",
        "it21021@mbstu.ac.bd\n",
        "it21010@mbstu.ac.bd\n",
        "it23026@mbstu.ac.bd\n",
        "it23034@mbstu.ac.bd\n",
        "it21031@mbstu.ac.bd\n",
        "it23045@mbstu.ac.bd\n",
        "it23048@mbstu.ac.bd\"\"\"\n",
        "\n",
        "emails_list = emails.split('\\n')\n",
        "comma_separated_emails = \", \".join(emails_list)\n",
        "comma_separated_emails"
      ],
      "metadata": {
        "colab": {
          "base_uri": "https://localhost:8080/",
          "height": 87
        },
        "id": "YrX0T6IAwUKR",
        "outputId": "0a741e90-1129-4b85-b922-9f35b8fdeff6"
      },
      "execution_count": null,
      "outputs": [
        {
          "output_type": "execute_result",
          "data": {
            "text/plain": [
              "'it23039@mbstu.ac.bd, it23044@mbstu.ac.bd, it23043@mbstu.ac.bd, it23051@mbstu.ac.bd, it23033@mbstu.ac.bd, it22023@mbstu.ac.bd, it22028@mbstu.ac.bd, it23001@mbstu.ac.bd, it23020@mbstu.ac.bd, it23032@mbstu.ac.bd, it23036@mbstu.ac.bd, it23024@mbstu.ac.bd, it23016@mbstu.ac.bd, it23037@mbstu.ac.bd, it23003@mbstu.ac.bd, it23031@mbstu.ac.bd, it23012@mbstu.ac.bd, it23054@mbstu.ac.bd, it23029@mbstu.ac.bd, it23040@mbstu.ac.bd, it23028@mbstu.ac.bd, it23055@mbstu.ac.bd, it23008@mbstu.ac.bd, it21021@mbstu.ac.bd, it21010@mbstu.ac.bd, it23026@mbstu.ac.bd, it23034@mbstu.ac.bd, it21031@mbstu.ac.bd, it23045@mbstu.ac.bd, it23048@mbstu.ac.bd'"
            ],
            "application/vnd.google.colaboratory.intrinsic+json": {
              "type": "string"
            }
          },
          "metadata": {},
          "execution_count": 17
        }
      ]
    },
    {
      "cell_type": "code",
      "source": [
        "# prompt: it23009@mbstu.ac.bd\n",
        "# it23011@mbstu.ac.bd\n",
        "# it23030@mbstu.ac.bd\n",
        "# it23004@mbstu.ac.bd\n",
        "# it23013@mbstu.ac.bd\n",
        "# it23002@mbstu.ac.bd\n",
        "# it23023@mbstu.ac.bd\n",
        "# it22053@mbstu.ac.bd\n",
        "# it23019@mbstu.ac.bd\n",
        "# it23018@mbstu.ac.bd\n",
        "# it23025@mbstu.ac.bd\n",
        "# it22033@mbstu.ac.bd\n",
        "# it23053@mbstu.ac.bd\n",
        "# it23035@mbstu.ac.bd\n",
        "# it23050@mbstu.ac.bd\n",
        "# it23021@mbstu.ac.bd\n",
        "# it23041@mbstu.ac.bd\n",
        "# it23010@mbstu.ac.bd\n",
        "# it23038@mbstu.ac.bd\n",
        "# it23014@mbstu.ac.bd\n",
        "# it23052@mbstu.ac.bd\n",
        "# it23015@mbstu.ac.bd\n",
        "# it23022@mbstu.ac.bd\n",
        "\n",
        "emails_batch2 = \"\"\"it23009@mbstu.ac.bd\n",
        "it23011@mbstu.ac.bd\n",
        "it23030@mbstu.ac.bd\n",
        "it23004@mbstu.ac.bd\n",
        "it23013@mbstu.ac.bd\n",
        "it23002@mbstu.ac.bd\n",
        "it23023@mbstu.ac.bd\n",
        "it22053@mbstu.ac.bd\n",
        "it23019@mbstu.ac.bd\n",
        "it23018@mbstu.ac.bd\n",
        "it23025@mbstu.ac.bd\n",
        "it22033@mbstu.ac.bd\n",
        "it23053@mbstu.ac.bd\n",
        "it23035@mbstu.ac.bd\n",
        "it23050@mbstu.ac.bd\n",
        "it23021@mbstu.ac.bd\n",
        "it23041@mbstu.ac.bd\n",
        "it23010@mbstu.ac.bd\n",
        "it23038@mbstu.ac.bd\n",
        "it23014@mbstu.ac.bd\n",
        "it23052@mbstu.ac.bd\n",
        "it23015@mbstu.ac.bd\n",
        "it23022@mbstu.ac.bd\"\"\"\n",
        "\n",
        "emails_batch2_list = emails_batch2.split('\\n')\n",
        "comma_separated_emails_batch2 = \", \".join(emails_batch2_list)\n",
        "comma_separated_emails_batch2\n"
      ],
      "metadata": {
        "colab": {
          "base_uri": "https://localhost:8080/",
          "height": 70
        },
        "id": "NhznL9gOyZH_",
        "outputId": "97a904a9-9601-4db5-eb50-8a94efd16774"
      },
      "execution_count": null,
      "outputs": [
        {
          "output_type": "execute_result",
          "data": {
            "text/plain": [
              "'it23009@mbstu.ac.bd, it23011@mbstu.ac.bd, it23030@mbstu.ac.bd, it23004@mbstu.ac.bd, it23013@mbstu.ac.bd, it23002@mbstu.ac.bd, it23023@mbstu.ac.bd, it22053@mbstu.ac.bd, it23019@mbstu.ac.bd, it23018@mbstu.ac.bd, it23025@mbstu.ac.bd, it22033@mbstu.ac.bd, it23053@mbstu.ac.bd, it23035@mbstu.ac.bd, it23050@mbstu.ac.bd, it23021@mbstu.ac.bd, it23041@mbstu.ac.bd, it23010@mbstu.ac.bd, it23038@mbstu.ac.bd, it23014@mbstu.ac.bd, it23052@mbstu.ac.bd, it23015@mbstu.ac.bd, it23022@mbstu.ac.bd'"
            ],
            "application/vnd.google.colaboratory.intrinsic+json": {
              "type": "string"
            }
          },
          "metadata": {},
          "execution_count": 18
        }
      ]
    },
    {
      "cell_type": "code",
      "source": [
        "t = 12345, 54321, 'hello!'"
      ],
      "metadata": {
        "id": "CIwujK5iztJT"
      },
      "execution_count": null,
      "outputs": []
    },
    {
      "cell_type": "code",
      "source": [
        "print(t)"
      ],
      "metadata": {
        "colab": {
          "base_uri": "https://localhost:8080/"
        },
        "id": "_cq4zjoEyTco",
        "outputId": "e071412c-e51c-4ce0-9655-ed9d31dbc295"
      },
      "execution_count": null,
      "outputs": [
        {
          "output_type": "stream",
          "name": "stdout",
          "text": [
            "(12345, 54321, 'hello!')\n"
          ]
        }
      ]
    },
    {
      "cell_type": "code",
      "source": [
        "dict = {'Key1': 'C++', 'Key2':'Python', 'Key3':'Java'}\n",
        "\n",
        "for k, v in dict.items():\n",
        "  print(k,v)"
      ],
      "metadata": {
        "colab": {
          "base_uri": "https://localhost:8080/"
        },
        "id": "qu-xGQL60cs1",
        "outputId": "991900c0-f803-46b7-850a-29208308a45c"
      },
      "execution_count": null,
      "outputs": [
        {
          "output_type": "stream",
          "name": "stdout",
          "text": [
            "Key1 C++\n",
            "Key2 Python\n",
            "Key3 Java\n"
          ]
        }
      ]
    },
    {
      "cell_type": "markdown",
      "source": [
        "Yes, there are a few other ways to print dictionary keys and values using two loops. Here are some alternatives:\n",
        "\n",
        "---\n",
        "\n",
        "### **1. Using `zip()` on `dict.keys()` and `dict.values()`**\n",
        "\n",
        "```python\n",
        "dict = {'Key1': 'C++', 'Key2': 'Python', 'Key3': 'Java'}\n",
        "\n",
        "for k, v in zip(dict.keys(), dict.values()):\n",
        "    print(k, v)\n",
        "```\n",
        "\n",
        "✅ **Advantage:** Still uses two separate function calls (`keys()` and `values()`), but iterates over both at once.\n",
        "\n",
        "---\n",
        "\n",
        "### **2. Using index and `dict` directly**\n",
        "\n",
        "```python\n",
        "dict = {'Key1': 'C++', 'Key2': 'Python', 'Key3': 'Java'}\n",
        "\n",
        "keys = list(dict)\n",
        "for i in range(len(keys)):\n",
        "    print(keys[i], dict[keys[i]])\n",
        "```\n",
        "\n",
        "✅ **Advantage:** Uses keys only, retrieves values by indexing the dictionary.\n",
        "\n",
        "---\n",
        "\n",
        "### **3. Manual parallel loops (less recommended)**\n",
        "\n",
        "```python\n",
        "dict = {'Key1': 'C++', 'Key2': 'Python', 'Key3': 'Java'}\n",
        "\n",
        "keys = iter(dict.keys())\n",
        "values = iter(dict.values())\n",
        "\n",
        "while True:\n",
        "    try:\n",
        "        k = next(keys)\n",
        "        v = next(values)\n",
        "        print(k, v)\n",
        "    except StopIteration:\n",
        "        break\n",
        "```\n",
        "\n",
        "✅ **Advantage:** Demonstrates lower-level control over iteration.\n",
        "\n",
        "---\n",
        "\n",
        "### ✅ Recommended Approach:\n",
        "\n",
        "If you're okay using `zip()`, method #1 is clean and Pythonic. If your goal is to emphasize the separation of key and value access, method #2 is simple and readable.\n",
        "\n",
        "Let me know your use case, and I can suggest the best option accordingly!\n"
      ],
      "metadata": {
        "id": "DSMuZ79j2ZXD"
      }
    },
    {
      "cell_type": "code",
      "source": [
        "print({x:x**2 for x in range(10)})"
      ],
      "metadata": {
        "colab": {
          "base_uri": "https://localhost:8080/"
        },
        "id": "mWRvbjDA0tfb",
        "outputId": "6059c7b9-affa-4aae-a33b-b3f2c1c5e960"
      },
      "execution_count": null,
      "outputs": [
        {
          "output_type": "stream",
          "name": "stdout",
          "text": [
            "{0: 0, 1: 1, 2: 4, 3: 9, 4: 16, 5: 25, 6: 36, 7: 49, 8: 64, 9: 81}\n"
          ]
        }
      ]
    }
  ]
}