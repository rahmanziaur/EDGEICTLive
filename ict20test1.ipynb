{
  "nbformat": 4,
  "nbformat_minor": 0,
  "metadata": {
    "colab": {
      "provenance": [],
      "mount_file_id": "1jI4fJ7O3AU-P25iy7mdPL6ceYPkEoucR",
      "authorship_tag": "ABX9TyP/cQdvnnBQsHtwhL0xaYjz",
      "include_colab_link": true
    },
    "kernelspec": {
      "name": "python3",
      "display_name": "Python 3"
    },
    "language_info": {
      "name": "python"
    }
  },
  "cells": [
    {
      "cell_type": "markdown",
      "metadata": {
        "id": "view-in-github",
        "colab_type": "text"
      },
      "source": [
        "<a href=\"https://colab.research.google.com/github/rahmanziaur/EDGEICTLive/blob/main/ict20test1.ipynb\" target=\"_parent\"><img src=\"https://colab.research.google.com/assets/colab-badge.svg\" alt=\"Open In Colab\"/></a>"
      ]
    },
    {
      "cell_type": "markdown",
      "source": [
        "**This is list**"
      ],
      "metadata": {
        "id": "seh7ZM5LWgGw"
      }
    },
    {
      "cell_type": "code",
      "source": [
        "ict = ['C++','ICT2201',123,'Z',1.590]"
      ],
      "metadata": {
        "id": "QZR39-YK6Z0T"
      },
      "execution_count": null,
      "outputs": []
    },
    {
      "cell_type": "markdown",
      "source": [
        "This a *loop* to print ict list where each item ending with **comma** (,)"
      ],
      "metadata": {
        "id": "jYCj7W10Wc6P"
      }
    },
    {
      "cell_type": "code",
      "source": [
        "for i in ict:\n",
        "  print(i, end=', ')"
      ],
      "metadata": {
        "colab": {
          "base_uri": "https://localhost:8080/"
        },
        "id": "Rl99JFr36qlq",
        "outputId": "c8c1669f-799c-4f38-b73c-94f2b946bd26"
      },
      "execution_count": null,
      "outputs": [
        {
          "output_type": "stream",
          "name": "stdout",
          "text": [
            "C++, ICT2201, 123, Z, 1.59, "
          ]
        }
      ]
    },
    {
      "cell_type": "code",
      "source": [
        "fruits = ['orange', 'apple', 'pear', 'banana', 'kiwi', 'apple', 'banana', 'Apple']"
      ],
      "metadata": {
        "id": "OWtiO0tl-B7j"
      },
      "execution_count": null,
      "outputs": []
    },
    {
      "cell_type": "code",
      "source": [
        "fruits.count('apple')\n"
      ],
      "metadata": {
        "colab": {
          "base_uri": "https://localhost:8080/"
        },
        "id": "6Ss7sy7w8Zz6",
        "outputId": "f2aecb5b-8f75-419c-b0af-b4de19822170"
      },
      "execution_count": null,
      "outputs": [
        {
          "output_type": "execute_result",
          "data": {
            "text/plain": [
              "2"
            ]
          },
          "metadata": {},
          "execution_count": 11
        }
      ]
    },
    {
      "cell_type": "code",
      "source": [
        "fruits.index('banana', 1)"
      ],
      "metadata": {
        "colab": {
          "base_uri": "https://localhost:8080/"
        },
        "id": "Sc0wlQOj-Zmr",
        "outputId": "4d698f88-c068-4a05-a25d-31d5add0ddf5"
      },
      "execution_count": null,
      "outputs": [
        {
          "output_type": "execute_result",
          "data": {
            "text/plain": [
              "3"
            ]
          },
          "metadata": {},
          "execution_count": 13
        }
      ]
    },
    {
      "cell_type": "code",
      "source": [
        "fruits.reverse()"
      ],
      "metadata": {
        "colab": {
          "base_uri": "https://localhost:8080/"
        },
        "id": "1QodikAB-pq7",
        "outputId": "9cb4ef21-2b4b-4f36-c97e-00198527c9de"
      },
      "execution_count": null,
      "outputs": [
        {
          "output_type": "stream",
          "name": "stdout",
          "text": [
            "None\n"
          ]
        }
      ]
    },
    {
      "cell_type": "code",
      "source": [
        "fruits"
      ],
      "metadata": {
        "colab": {
          "base_uri": "https://localhost:8080/"
        },
        "id": "grwYR5nC-xUp",
        "outputId": "06b49e23-6850-4a1d-c15c-951a5d1e870a"
      },
      "execution_count": null,
      "outputs": [
        {
          "output_type": "execute_result",
          "data": {
            "text/plain": [
              "['Apple', 'banana', 'apple', 'kiwi', 'banana', 'pear', 'apple', 'orange']"
            ]
          },
          "metadata": {},
          "execution_count": 17
        }
      ]
    },
    {
      "cell_type": "code",
      "source": [
        "fruits"
      ],
      "metadata": {
        "colab": {
          "base_uri": "https://localhost:8080/"
        },
        "id": "b6mp0B-w-5LR",
        "outputId": "a334671d-568a-40e1-e72f-87ce7f10b778"
      },
      "execution_count": null,
      "outputs": [
        {
          "output_type": "execute_result",
          "data": {
            "text/plain": [
              "['Apple',\n",
              " 'banana',\n",
              " 'apple',\n",
              " 'kiwi',\n",
              " 'banana',\n",
              " 'pear',\n",
              " 'apple',\n",
              " 'orange',\n",
              " 'grape']"
            ]
          },
          "metadata": {},
          "execution_count": 19
        }
      ]
    },
    {
      "cell_type": "code",
      "source": [
        "fruits.append('grape')"
      ],
      "metadata": {
        "id": "xfsTL_yB-zxJ"
      },
      "execution_count": null,
      "outputs": []
    },
    {
      "cell_type": "code",
      "source": [
        "fruits.pop(2)"
      ],
      "metadata": {
        "colab": {
          "base_uri": "https://localhost:8080/",
          "height": 36
        },
        "id": "PPIPYZdW_CTq",
        "outputId": "c7c8b050-2b6d-4fd8-f83b-ac8fb98730bf"
      },
      "execution_count": null,
      "outputs": [
        {
          "output_type": "execute_result",
          "data": {
            "text/plain": [
              "'apple'"
            ],
            "application/vnd.google.colaboratory.intrinsic+json": {
              "type": "string"
            }
          },
          "metadata": {},
          "execution_count": 22
        }
      ]
    },
    {
      "cell_type": "code",
      "source": [
        "fruits.insert(2,'pear')"
      ],
      "metadata": {
        "id": "_hkTJlX0bCDJ"
      },
      "execution_count": null,
      "outputs": []
    },
    {
      "cell_type": "code",
      "source": [
        "fruits"
      ],
      "metadata": {
        "colab": {
          "base_uri": "https://localhost:8080/"
        },
        "id": "Qd-Q4xB0_E5B",
        "outputId": "b399bd45-b183-4d82-eec4-0c1ed3975d71"
      },
      "execution_count": null,
      "outputs": [
        {
          "output_type": "execute_result",
          "data": {
            "text/plain": [
              "['orange',\n",
              " 'apple',\n",
              " 'pear',\n",
              " 'pear',\n",
              " 'banana',\n",
              " 'kiwi',\n",
              " 'apple',\n",
              " 'banana',\n",
              " 'Apple']"
            ]
          },
          "metadata": {},
          "execution_count": 5
        }
      ]
    },
    {
      "cell_type": "code",
      "source": [
        "fruits.remove('pear')"
      ],
      "metadata": {
        "id": "nA1SgFIYbJD_"
      },
      "execution_count": null,
      "outputs": []
    },
    {
      "cell_type": "code",
      "source": [
        "from collections import deque\n",
        "queue = deque(fruits)"
      ],
      "metadata": {
        "id": "vD9agutqboiQ"
      },
      "execution_count": null,
      "outputs": []
    },
    {
      "cell_type": "code",
      "source": [
        "queue.popleft()"
      ],
      "metadata": {
        "colab": {
          "base_uri": "https://localhost:8080/",
          "height": 35
        },
        "id": "cxqG8SitbZBw",
        "outputId": "76fd3d35-4bf9-45bc-b096-782b7218a109"
      },
      "execution_count": null,
      "outputs": [
        {
          "output_type": "execute_result",
          "data": {
            "text/plain": [
              "'orange'"
            ],
            "application/vnd.google.colaboratory.intrinsic+json": {
              "type": "string"
            }
          },
          "metadata": {},
          "execution_count": 12
        }
      ]
    },
    {
      "cell_type": "code",
      "source": [
        "queue"
      ],
      "metadata": {
        "colab": {
          "base_uri": "https://localhost:8080/"
        },
        "id": "6n-CrJhUb1Jo",
        "outputId": "2b17feac-4af1-4d8e-b8b4-1331dbddaafb"
      },
      "execution_count": null,
      "outputs": [
        {
          "output_type": "execute_result",
          "data": {
            "text/plain": [
              "deque(['apple', 'banana', 'kiwi', 'apple', 'banana', 'Apple'])"
            ]
          },
          "metadata": {},
          "execution_count": 13
        }
      ]
    },
    {
      "cell_type": "code",
      "source": [
        "queue.pop()"
      ],
      "metadata": {
        "colab": {
          "base_uri": "https://localhost:8080/",
          "height": 35
        },
        "id": "7Z5jI9vmb4uv",
        "outputId": "3490c693-9130-4ba1-c4d1-66931ea184e0"
      },
      "execution_count": null,
      "outputs": [
        {
          "output_type": "execute_result",
          "data": {
            "text/plain": [
              "'Apple'"
            ],
            "application/vnd.google.colaboratory.intrinsic+json": {
              "type": "string"
            }
          },
          "metadata": {},
          "execution_count": 15
        }
      ]
    },
    {
      "cell_type": "markdown",
      "source": [
        "conventional way"
      ],
      "metadata": {
        "id": "2aOjQRMygTwH"
      }
    },
    {
      "cell_type": "code",
      "source": [
        "squares =[]\n",
        "for i in range(10):\n",
        "  squares.append(i**2)\n",
        "print(squares)"
      ],
      "metadata": {
        "colab": {
          "base_uri": "https://localhost:8080/"
        },
        "id": "rgG6YFpefOmn",
        "outputId": "4b231349-688d-4a09-c719-6ac659ce43f2"
      },
      "execution_count": null,
      "outputs": [
        {
          "output_type": "stream",
          "name": "stdout",
          "text": [
            "[0, 1, 4, 9, 16, 25, 36, 49, 64, 81]\n"
          ]
        }
      ]
    },
    {
      "cell_type": "markdown",
      "source": [
        "**Lamda Expression with Loop**"
      ],
      "metadata": {
        "id": "-0sNfGMLgWEH"
      }
    },
    {
      "cell_type": "code",
      "source": [
        "l =  list(map(lambda x:x**2, range(10)))"
      ],
      "metadata": {
        "id": "zLB1gryUgZ13"
      },
      "execution_count": null,
      "outputs": []
    },
    {
      "cell_type": "code",
      "source": [
        "l=[i**2 for i in range(10)]\n",
        "l"
      ],
      "metadata": {
        "colab": {
          "base_uri": "https://localhost:8080/"
        },
        "id": "syEf5WzAg4TG",
        "outputId": "89812b67-77a3-4d8f-c101-c6738717a4d8"
      },
      "execution_count": null,
      "outputs": [
        {
          "output_type": "execute_result",
          "data": {
            "text/plain": [
              "[0, 1, 4, 9, 16, 25, 36, 49, 64, 81]"
            ]
          },
          "metadata": {},
          "execution_count": 29
        }
      ]
    },
    {
      "cell_type": "code",
      "source": [
        "print([(i,j) for i in range(10) if i%2==0 for j in range(10) if j%2==1 and i>j])"
      ],
      "metadata": {
        "colab": {
          "base_uri": "https://localhost:8080/"
        },
        "id": "CqV0wni-h7BH",
        "outputId": "6c326312-9139-4f66-db5d-1d3a1f460190"
      },
      "execution_count": null,
      "outputs": [
        {
          "output_type": "stream",
          "name": "stdout",
          "text": [
            "[(2, 1), (4, 1), (4, 3), (6, 1), (6, 3), (6, 5), (8, 1), (8, 3), (8, 5), (8, 7)]\n"
          ]
        }
      ]
    },
    {
      "cell_type": "code",
      "source": [
        "[(i,j) for i in [2,3,4] for j in [5, 7, 9]]"
      ],
      "metadata": {
        "colab": {
          "base_uri": "https://localhost:8080/"
        },
        "id": "OBOD4Gyylsrv",
        "outputId": "24d534e0-3f9a-455a-9a78-5d74d174ebeb"
      },
      "execution_count": null,
      "outputs": [
        {
          "output_type": "execute_result",
          "data": {
            "text/plain": [
              "[(2, 5), (2, 7), (2, 9), (3, 5), (3, 7), (3, 9), (4, 5), (4, 7), (4, 9)]"
            ]
          },
          "metadata": {},
          "execution_count": 45
        }
      ]
    },
    {
      "cell_type": "code",
      "source": [
        "list(map(lambda i: [(i, j) for j in [5, 7, 9]], [2, 3, 4]))"
      ],
      "metadata": {
        "colab": {
          "base_uri": "https://localhost:8080/"
        },
        "id": "_KijeNGJmJGn",
        "outputId": "8412a98c-cfbb-474b-ff21-96d5a5510c62"
      },
      "execution_count": null,
      "outputs": [
        {
          "output_type": "execute_result",
          "data": {
            "text/plain": [
              "[[(2, 5), (2, 7), (2, 9)], [(3, 5), (3, 7), (3, 9)], [(4, 5), (4, 7), (4, 9)]]"
            ]
          },
          "metadata": {},
          "execution_count": 46
        }
      ]
    },
    {
      "cell_type": "code",
      "source": [
        "import sys\n",
        "print([str(chr(c))+\":\"+ str(c)+\", \" for c in range(ord('A'), ord('Z')+1) if c%2==1])\n",
        "length = len([str(chr(c))+\":\"+ str(c)+\", \" for c in range(ord('A'), ord('Z')+1) if c%2==1])\n",
        "print(length)\n",
        "print(\"Lenth: \", str(length),\" Size: \", sys.getsizeof(length))\n"
      ],
      "metadata": {
        "colab": {
          "base_uri": "https://localhost:8080/"
        },
        "id": "8YA0-zyWm75H",
        "outputId": "72d82891-9791-4786-b40c-bad18da41a28"
      },
      "execution_count": null,
      "outputs": [
        {
          "output_type": "stream",
          "name": "stdout",
          "text": [
            "['A:65, ', 'C:67, ', 'E:69, ', 'G:71, ', 'I:73, ', 'K:75, ', 'M:77, ', 'O:79, ', 'Q:81, ', 'S:83, ', 'U:85, ', 'W:87, ', 'Y:89, ']\n",
            "13\n",
            "Lenth:  13  Size:  28\n"
          ]
        }
      ]
    },
    {
      "cell_type": "code",
      "source": [
        "print([i for i in range(1,11,2)])"
      ],
      "metadata": {
        "colab": {
          "base_uri": "https://localhost:8080/"
        },
        "id": "_Uc-AvgXpK3n",
        "outputId": "13826a6e-f10d-4fdb-cf17-596528b318c9"
      },
      "execution_count": null,
      "outputs": [
        {
          "output_type": "stream",
          "name": "stdout",
          "text": [
            "[1, 3, 5, 7, 9]\n"
          ]
        }
      ]
    },
    {
      "cell_type": "code",
      "source": [
        "print([(c,chr(c)) for c in range(ord('A'), ord('Z')+1) if c%2==1])"
      ],
      "metadata": {
        "colab": {
          "base_uri": "https://localhost:8080/"
        },
        "id": "rnG3xDnTqCaO",
        "outputId": "453ae0fc-3c5e-4b3f-cf2a-a33654e50198"
      },
      "execution_count": null,
      "outputs": [
        {
          "output_type": "stream",
          "name": "stdout",
          "text": [
            "[(65, 'A'), (67, 'C'), (69, 'E'), (71, 'G'), (73, 'I'), (75, 'K'), (77, 'M'), (79, 'O'), (81, 'Q'), (83, 'S'), (85, 'U'), (87, 'W'), (89, 'Y')]\n"
          ]
        }
      ]
    },
    {
      "cell_type": "code",
      "source": [
        "import sys\n",
        "length = len([(c,chr(c)) for c in range(ord('A'), ord('Z')+1) if c%2==1])\n",
        "print(length)\n",
        "print(\"Lenth: \", str(length),\" Size: \", sys.getsizeof(length))\n"
      ],
      "metadata": {
        "colab": {
          "base_uri": "https://localhost:8080/"
        },
        "id": "I6xeP0Tcqua3",
        "outputId": "f438480d-87c7-4d5a-f827-784f41f05539"
      },
      "execution_count": null,
      "outputs": [
        {
          "output_type": "stream",
          "name": "stdout",
          "text": [
            "13\n",
            "Lenth:  13  Size:  28\n"
          ]
        }
      ]
    },
    {
      "cell_type": "code",
      "source": [
        "import sys\n",
        "\n",
        "data1 = [(c, chr(c)) for c in range(ord('A'), ord('Z') + 1) if c % 2 == 1]\n",
        "data2 = [str(chr(c)) + \":\" + str(c) + \", \" for c in range(ord('A'), ord('Z') + 1) if c % 2 == 1]\n",
        "\n",
        "# Estimate total size\n",
        "size1 = sys.getsizeof(data1) + sum(sys.getsizeof(t) + sum(sys.getsizeof(i) for i in t) for t in data1)\n",
        "size2 = sys.getsizeof(data2) + sum(sys.getsizeof(s) for s in data2)\n",
        "\n",
        "print(\"Tuple version total size:\", size1)\n",
        "print(\"String version total size:\", size2)\n"
      ],
      "metadata": {
        "colab": {
          "base_uri": "https://localhost:8080/"
        },
        "id": "K0FaEd0tsNi2",
        "outputId": "32ff4f5d-68e8-499e-a74f-e2daed6a0869"
      },
      "execution_count": null,
      "outputs": [
        {
          "output_type": "stream",
          "name": "stdout",
          "text": [
            "Tuple version total size: 1926\n",
            "String version total size: 899\n"
          ]
        }
      ]
    },
    {
      "cell_type": "code",
      "source": [
        "# prompt: show a comparison that string is more effieicnt than tuple?\n",
        "\n",
        "# Let's generate some larger lists of tuples and strings to see the difference\n",
        "tuple_list = [(c, chr(c)) for c in range(ord('A'), ord('z') + 1)]\n",
        "string_list = [str(chr(c)) + \":\" + str(c) for c in range(ord('A'), ord('z') + 1)]\n",
        "\n",
        "# Calculate the size of the lists and their contents\n",
        "tuple_list_size = sys.getsizeof(tuple_list) + sum(sys.getsizeof(t) + sum(sys.getsizeof(i) for i in t) for t in tuple_list)\n",
        "string_list_size = sys.getsizeof(string_list) + sum(sys.getsizeof(s) for s in string_list)\n",
        "\n",
        "print(\"\\nComparison of string vs. tuple size for a larger list:\")\n",
        "print(f\"Tuple list size: {tuple_list_size} bytes\")\n",
        "print(f\"String list size: {string_list_size} bytes\")\n",
        "\n",
        "# This comparison demonstrates that for storing combinations of characters and their ASCII values,\n",
        "# a list of strings often takes up more memory than a list of tuples.\n",
        "# Each string has overhead, while tuples, especially with simple types like integers and single characters, can be more compact."
      ],
      "metadata": {
        "colab": {
          "base_uri": "https://localhost:8080/"
        },
        "id": "2fYD9OJHtAV-",
        "outputId": "ea27dc39-13a4-451e-aa36-b219f915a61f"
      },
      "execution_count": null,
      "outputs": [
        {
          "output_type": "stream",
          "name": "stdout",
          "text": [
            "\n",
            "Comparison of string vs. tuple size for a larger list:\n",
            "Tuple list size: 8340 bytes\n",
            "String list size: 3665 bytes\n"
          ]
        }
      ]
    }
  ]
}