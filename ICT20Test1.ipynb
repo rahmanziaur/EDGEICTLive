{
  "nbformat": 4,
  "nbformat_minor": 0,
  "metadata": {
    "colab": {
      "provenance": [],
      "mount_file_id": "1jI4fJ7O3AU-P25iy7mdPL6ceYPkEoucR",
      "authorship_tag": "ABX9TyO0x9zSyZnHzjoPt3c1eHn5",
      "include_colab_link": true
    },
    "kernelspec": {
      "name": "python3",
      "display_name": "Python 3"
    },
    "language_info": {
      "name": "python"
    }
  },
  "cells": [
    {
      "cell_type": "markdown",
      "metadata": {
        "id": "view-in-github",
        "colab_type": "text"
      },
      "source": [
        "<a href=\"https://colab.research.google.com/github/rahmanziaur/EDGEICTLive/blob/main/ICT20Test1.ipynb\" target=\"_parent\"><img src=\"https://colab.research.google.com/assets/colab-badge.svg\" alt=\"Open In Colab\"/></a>"
      ]
    },
    {
      "cell_type": "code",
      "source": [
        "ict = ['C++','ICT2201',123,'Z',1.590]"
      ],
      "metadata": {
        "id": "QZR39-YK6Z0T"
      },
      "execution_count": 2,
      "outputs": []
    },
    {
      "cell_type": "code",
      "source": [
        "for i in ict:\n",
        "  print(i, end=', ')"
      ],
      "metadata": {
        "colab": {
          "base_uri": "https://localhost:8080/"
        },
        "id": "Rl99JFr36qlq",
        "outputId": "c8c1669f-799c-4f38-b73c-94f2b946bd26"
      },
      "execution_count": 3,
      "outputs": [
        {
          "output_type": "stream",
          "name": "stdout",
          "text": [
            "C++, ICT2201, 123, Z, 1.59, "
          ]
        }
      ]
    },
    {
      "cell_type": "code",
      "source": [],
      "metadata": {
        "id": "6Ss7sy7w8Zz6"
      },
      "execution_count": null,
      "outputs": []
    }
  ]
}