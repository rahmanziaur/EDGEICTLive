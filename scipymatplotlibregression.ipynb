{
  "nbformat": 4,
  "nbformat_minor": 0,
  "metadata": {
    "colab": {
      "provenance": [],
      "authorship_tag": "ABX9TyNCQqcmmTsv1zpH2wKXJ+0H",
      "include_colab_link": true
    },
    "kernelspec": {
      "name": "python3",
      "display_name": "Python 3"
    },
    "language_info": {
      "name": "python"
    }
  },
  "cells": [
    {
      "cell_type": "markdown",
      "metadata": {
        "id": "view-in-github",
        "colab_type": "text"
      },
      "source": [
        "<a href=\"https://colab.research.google.com/github/rahmanziaur/EDGEICT/blob/main/scipymatplotlibregression.ipynb\" target=\"_parent\"><img src=\"https://colab.research.google.com/assets/colab-badge.svg\" alt=\"Open In Colab\"/></a>"
      ]
    },
    {
      "cell_type": "code",
      "execution_count": null,
      "metadata": {
        "id": "hIS9wEdb4yl4"
      },
      "outputs": [],
      "source": [
        "from math import e, factorial\n",
        "import numpy as np\n",
        "\n",
        "# Vectorized factorial for efficiency\n",
        "fac = np.vectorize(factorial)\n",
        "\n",
        "def e_x(x, terms):\n",
        "    \"\"\"Approximates e^x using a given number of terms of\n",
        "    the Maclaurin series.\n",
        "    \"\"\"\n",
        "    n = np.arange(terms)\n",
        "    return np.sum((x ** n) / fac(n))\n",
        "\n",
        "# Read input values from file\n",
        "with open('input.txt', 'r') as file:\n",
        "    lines = file.readlines()\n",
        "    x = float(lines[0].strip())\n",
        "    terms = int(lines[1].strip())\n",
        "\n",
        "# Calculate Maclaurin series sum and error\n",
        "maclaurin_sum = e_x(x, terms)\n",
        "actual_value = e ** x\n",
        "error = actual_value - maclaurin_sum\n",
        "\n",
        "# Write output to file\n",
        "with open('output.txt', 'w') as file:\n",
        "    file.write(f\"Sum of Maclaurin series for e^{x} with {terms} terms: {maclaurin_sum:.6f}\\n\")\n",
        "    file.write(f\"Actual value of e^{x}: {actual_value:.6f}\\n\")\n",
        "    file.write(f\"Error: {error:.6f}\\n\")\n",
        "\n",
        "print(\"Calculation complete. Results saved to output.txt.\")\n"
      ]
    },
    {
      "cell_type": "code",
      "source": [
        "import pandas as pd\n",
        "from math import e, factorial\n",
        "import numpy as np\n",
        "\n",
        "# Vectorized factorial for efficiency\n",
        "fac = np.vectorize(factorial)\n",
        "\n",
        "def e_x(x, terms):\n",
        "    \"\"\"Approximates e^x using a given number of terms of\n",
        "    the Maclaurin series.\n",
        "    \"\"\"\n",
        "    n = np.arange(terms)\n",
        "    return np.sum((x ** n) / fac(n))\n",
        "\n",
        "# Read input values from CSV\n",
        "input_df = pd.read_csv('https://raw.githubusercontent.com/rahmanziaur/EDGEICT/refs/heads/main/input.csv')\n",
        "\n",
        "# Initialize an empty list to store the results\n",
        "results = []\n",
        "\n",
        "# Iterate over each row in the input DataFrame\n",
        "for index, row in input_df.iterrows():\n",
        "    x = row['x']\n",
        "    terms = int(row['terms'])\n",
        "\n",
        "    # Calculate Maclaurin series sum and error\n",
        "    maclaurin_sum = e_x(x, terms)\n",
        "    actual_value = e ** x\n",
        "    error = actual_value - maclaurin_sum\n",
        "\n",
        "    # Append the results to the list\n",
        "    results.append({\n",
        "        'x': x,\n",
        "        'terms': terms,\n",
        "        'Maclaurin Sum': maclaurin_sum,\n",
        "        'Actual Value': actual_value,\n",
        "        'Error': error\n",
        "    })\n",
        "\n",
        "print(results)\n",
        "# Create a DataFrame from the results\n",
        "output_df = pd.DataFrame(results)\n",
        "\n",
        "# Write output to CSV\n",
        "output_df.to_csv('output.csv', index=False)\n",
        "\n",
        "print(\"Calculation complete. Results saved to output.csv.\")\n"
      ],
      "metadata": {
        "colab": {
          "base_uri": "https://localhost:8080/"
        },
        "id": "__JHHMMB5nsD",
        "outputId": "ec6d109d-2558-40a8-b2e2-a841f8a9b1e3"
      },
      "execution_count": null,
      "outputs": [
        {
          "output_type": "stream",
          "name": "stdout",
          "text": [
            "[{'x': 2, 'terms': 5, 'Maclaurin Sum': 7.0, 'Actual Value': 7.3890560989306495, 'Error': 0.3890560989306495}, {'x': 3, 'terms': 7, 'Maclaurin Sum': 19.412499999999998, 'Actual Value': 20.085536923187664, 'Error': 0.6730369231876665}, {'x': 4, 'terms': 9, 'Maclaurin Sum': 53.43174603174603, 'Actual Value': 54.59815003314423, 'Error': 1.1664040013981989}, {'x': 5, 'terms': 11, 'Maclaurin Sum': 146.38060102513222, 'Actual Value': 148.41315910257657, 'Error': 2.0325580774443495}, {'x': 6, 'terms': 13, 'Maclaurin Sum': 399.86753246753244, 'Actual Value': 403.428793492735, 'Error': 3.5612610252025547}, {'x': 7, 'terms': 15, 'Maclaurin Sum': 1090.3634846017376, 'Actual Value': 1096.6331584284583, 'Error': 6.269673826720691}, {'x': 8, 'terms': 17, 'Maclaurin Sum': 2969.874721807293, 'Actual Value': 2980.957987041727, 'Error': 11.083265234433838}, {'x': 9, 'terms': 19, 'Maclaurin Sum': 8083.4225870041255, 'Actual Value': 8103.08392757538, 'Error': 19.661340571254186}, {'x': 10, 'terms': 20, 'Maclaurin Sum': 21798.73489491415, 'Actual Value': 22026.465794806703, 'Error': 227.7308998925546}]\n",
            "Calculation complete. Results saved to output.csv.\n"
          ]
        }
      ]
    },
    {
      "cell_type": "code",
      "source": [
        "from scipy.optimize import minimize\n",
        "\n",
        "def eqn(x):\n",
        "  return x**2 + x + 2\n",
        "\n",
        "mymin = minimize(eqn, 0, method='BFGS')\n",
        "\n",
        "print(eqn(2))\n",
        "print(mymin)"
      ],
      "metadata": {
        "colab": {
          "base_uri": "https://localhost:8080/"
        },
        "id": "HHs6hqcPTSYp",
        "outputId": "ec296da8-ae6f-478c-fe84-68c3b413a02f"
      },
      "execution_count": null,
      "outputs": [
        {
          "output_type": "stream",
          "name": "stdout",
          "text": [
            "8\n",
            "  message: Optimization terminated successfully.\n",
            "  success: True\n",
            "   status: 0\n",
            "      fun: 1.75\n",
            "        x: [-5.000e-01]\n",
            "      nit: 2\n",
            "      jac: [ 0.000e+00]\n",
            " hess_inv: [[ 5.000e-01]]\n",
            "     nfev: 8\n",
            "     njev: 4\n"
          ]
        }
      ]
    },
    {
      "cell_type": "code",
      "source": [
        "from scipy import io\n",
        "import numpy as np\n",
        "\n",
        "arr = np.arange(10)\n",
        "\n",
        "io.savemat('arr.mat', {\"vec\": arr})"
      ],
      "metadata": {
        "id": "-PEodyznXcjk"
      },
      "execution_count": null,
      "outputs": []
    },
    {
      "cell_type": "markdown",
      "source": [],
      "metadata": {
        "id": "XKMrzawzXwO6"
      }
    },
    {
      "cell_type": "code",
      "source": [
        "import matplotlib.pyplot as plt\n",
        "import numpy as np\n",
        "\n",
        "x = np.array([\"A\", \"B\", \"C\", \"D\"])\n",
        "y = np.array([3, 8, 1, 10])\n",
        "\n",
        "plt.bar(x,y)\n",
        "plt.show()"
      ],
      "metadata": {
        "colab": {
          "base_uri": "https://localhost:8080/",
          "height": 430
        },
        "id": "44e9qOnFXwzj",
        "outputId": "d08a1d5a-0f8c-4189-844d-3e3273311659"
      },
      "execution_count": null,
      "outputs": [
        {
          "output_type": "display_data",
          "data": {
            "text/plain": [
              "<Figure size 640x480 with 1 Axes>"
            ],
            "image/png": "[encoded data removed]"
          },
          "metadata": {}
        }
      ]
    },
    {
      "cell_type": "code",
      "source": [
        "import matplotlib.pyplot as plt\n",
        "import numpy as np\n",
        "\n",
        "x = np.array([5,7,8,7,2,17,2,9,4,11,12,9,6])\n",
        "y = np.array([99,86,87,88,111,86,103,87,94,78,77,85,86])\n",
        "\n",
        "plt.scatter(x, y)\n",
        "plt.show()"
      ],
      "metadata": {
        "colab": {
          "base_uri": "https://localhost:8080/",
          "height": 430
        },
        "id": "Q4w0F27XX4sn",
        "outputId": "89645ef3-38b6-4443-b77e-8969553c60c5"
      },
      "execution_count": null,
      "outputs": [
        {
          "output_type": "display_data",
          "data": {
            "text/plain": [
              "<Figure size 640x480 with 1 Axes>"
            ],
            "image/png": "[encoded data removed]"
          },
          "metadata": {}
        }
      ]
    },
    {
      "cell_type": "code",
      "source": [
        "import numpy\n",
        "import matplotlib.pyplot as plt\n",
        "\n",
        "x = numpy.random.normal(5.0, 1.0, 100000)\n",
        "\n",
        "plt.hist(x, 100)\n",
        "plt.show()"
      ],
      "metadata": {
        "colab": {
          "base_uri": "https://localhost:8080/",
          "height": 430
        },
        "id": "1MJqtVIcYWyF",
        "outputId": "8382911f-ca25-48ee-f706-69ad95882f29"
      },
      "execution_count": null,
      "outputs": [
        {
          "output_type": "display_data",
          "data": {
            "text/plain": [
              "<Figure size 640x480 with 1 Axes>"
            ],
            "image/png": "[encoded data removed]"
          },
          "metadata": {}
        }
      ]
    }
  ]
}