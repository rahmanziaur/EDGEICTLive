{
  "nbformat": 4,
  "nbformat_minor": 0,
  "metadata": {
    "colab": {
      "provenance": [],
      "authorship_tag": "ABX9TyM+00yDsZ0SMXwqbkBiGjl8",
      "include_colab_link": true
    },
    "kernelspec": {
      "name": "python3",
      "display_name": "Python 3"
    },
    "language_info": {
      "name": "python"
    }
  },
  "cells": [
    {
      "cell_type": "markdown",
      "metadata": {
        "id": "view-in-github",
        "colab_type": "text"
      },
      "source": [
        "<a href=\"https://colab.research.google.com/github/rahmanziaur/EDGEICTLive/blob/main/scipymatplotlibregression.ipynb\" target=\"_parent\"><img src=\"https://colab.research.google.com/assets/colab-badge.svg\" alt=\"Open In Colab\"/></a>"
      ]
    },
    {
      "cell_type": "code",
      "execution_count": null,
      "metadata": {
        "id": "hIS9wEdb4yl4"
      },
      "outputs": [],
      "source": [
        "from math import e, factorial\n",
        "import numpy as np\n",
        "\n",
        "# Vectorized factorial for efficiency\n",
        "fac = np.vectorize(factorial)\n",
        "\n",
        "def e_x(x, terms):\n",
        "    \"\"\"Approximates e^x using a given number of terms of\n",
        "    the Maclaurin series.\n",
        "    \"\"\"\n",
        "    n = np.arange(terms)\n",
        "    return np.sum((x ** n) / fac(n))\n",
        "\n",
        "# Read input values from file\n",
        "with open('input.txt', 'r') as file:\n",
        "    lines = file.readlines()\n",
        "    x = float(lines[0].strip())\n",
        "    terms = int(lines[1].strip())\n",
        "\n",
        "# Calculate Maclaurin series sum and error\n",
        "maclaurin_sum = e_x(x, terms)\n",
        "actual_value = e ** x\n",
        "error = actual_value - maclaurin_sum\n",
        "\n",
        "# Write output to file\n",
        "with open('output.txt', 'w') as file:\n",
        "    file.write(f\"Sum of Maclaurin series for e^{x} with {terms} terms: {maclaurin_sum:.6f}\\n\")\n",
        "    file.write(f\"Actual value of e^{x}: {actual_value:.6f}\\n\")\n",
        "    file.write(f\"Error: {error:.6f}\\n\")\n",
        "\n",
        "print(\"Calculation complete. Results saved to output.txt.\")\n"
      ]
    },
    {
      "cell_type": "code",
      "source": [
        "import pandas as pd\n",
        "from math import e, factorial\n",
        "import numpy as np\n",
        "\n",
        "# Vectorized factorial for efficiency\n",
        "fac = np.vectorize(factorial)\n",
        "\n",
        "def e_x(x, terms):\n",
        "    \"\"\"Approximates e^x using a given number of terms of\n",
        "    the Maclaurin series.\n",
        "    \"\"\"\n",
        "    n = np.arange(terms)\n",
        "    return np.sum((x ** n) / fac(n))\n",
        "\n",
        "# Read input values from CSV\n",
        "input_df = pd.read_csv('https://raw.githubusercontent.com/rahmanziaur/EDGEICTLive/refs/heads/main/input.csv')\n",
        "\n",
        "# Initialize an empty list to store the results\n",
        "results = []\n",
        "\n",
        "# Iterate over each row in the input DataFrame\n",
        "for index, row in input_df.iterrows():\n",
        "    x = row['x']\n",
        "    terms = int(row['terms'])\n",
        "\n",
        "    # Calculate Maclaurin series sum and error\n",
        "    maclaurin_sum = e_x(x, terms)\n",
        "    actual_value = e ** x\n",
        "    error = actual_value - maclaurin_sum\n",
        "\n",
        "    # Append the results to the list\n",
        "    results.append({\n",
        "        'x': x,\n",
        "        'terms': terms,\n",
        "        'Maclaurin Sum': maclaurin_sum,\n",
        "        'Actual Value': actual_value,\n",
        "        'Error': error\n",
        "    })\n",
        "\n",
        "print(results)\n",
        "# Create a DataFrame from the results\n",
        "output_df = pd.DataFrame(results)\n",
        "\n",
        "# Write output to CSV\n",
        "output_df.to_csv('output.csv', index=False)\n",
        "\n",
        "print(\"Calculation complete. Results saved to output.csv.\")\n"
      ],
      "metadata": {
        "colab": {
          "base_uri": "https://localhost:8080/"
        },
        "id": "__JHHMMB5nsD",
        "outputId": "461bc15a-0557-453e-bf66-d6d5a9c157fc"
      },
      "execution_count": null,
      "outputs": [
        {
          "output_type": "stream",
          "name": "stdout",
          "text": [
            "[{'x': 2, 'terms': 5, 'Maclaurin Sum': 7.0, 'Actual Value': 7.3890560989306495, 'Error': 0.3890560989306495}, {'x': 3, 'terms': 7, 'Maclaurin Sum': 19.412499999999998, 'Actual Value': 20.085536923187664, 'Error': 0.6730369231876665}, {'x': 4, 'terms': 9, 'Maclaurin Sum': 53.43174603174603, 'Actual Value': 54.59815003314423, 'Error': 1.1664040013981989}, {'x': 5, 'terms': 11, 'Maclaurin Sum': 146.38060102513222, 'Actual Value': 148.41315910257657, 'Error': 2.0325580774443495}, {'x': 6, 'terms': 13, 'Maclaurin Sum': 399.86753246753244, 'Actual Value': 403.428793492735, 'Error': 3.5612610252025547}, {'x': 7, 'terms': 15, 'Maclaurin Sum': 1090.3634846017376, 'Actual Value': 1096.6331584284583, 'Error': 6.269673826720691}, {'x': 8, 'terms': 17, 'Maclaurin Sum': 2969.874721807293, 'Actual Value': 2980.957987041727, 'Error': 11.083265234433838}, {'x': 9, 'terms': 19, 'Maclaurin Sum': 8083.4225870041255, 'Actual Value': 8103.08392757538, 'Error': 19.661340571254186}, {'x': 10, 'terms': 20, 'Maclaurin Sum': 21798.73489491415, 'Actual Value': 22026.465794806703, 'Error': 227.7308998925546}]\n",
            "Calculation complete. Results saved to output.csv.\n"
          ]
        }
      ]
    },
    {
      "cell_type": "code",
      "source": [
        "import numpy as np\n",
        "import matplotlib.pyplot as plt\n",
        "\n",
        "def estimate_coef(x, y):\n",
        "  n = np.size(x)\n",
        "  m_x = np.mean(x)\n",
        "  m_y = np.mean(y)\n",
        "\n",
        "  # calculating cross-deviation and deviation about x\n",
        "  SS_xy = np.sum(y*x) - n*m_y*m_x\n",
        "  SS_xx = np.sum(x*x) - n*m_x*m_x\n",
        "\n",
        "  # calculating regression coefficients\n",
        "  b_1 = SS_xy / SS_xx\n",
        "  b_0 = m_y - b_1*m_x\n",
        "\n",
        "  return (b_0, b_1)"
      ],
      "metadata": {
        "id": "YP6O-iaJwLqt"
      },
      "execution_count": null,
      "outputs": []
    },
    {
      "cell_type": "code",
      "source": [
        "def plot_regression_line(x, y, b):\n",
        "  # plotting the actual points as scatter plot\n",
        "  plt.scatter(x, y, color = \"m\", marker = \"o\", s = 30)\n",
        "\n",
        "  # predicted response vector\n",
        "  y_pred = b[0] + b[1]*x\n",
        "\n",
        "  # plotting the regression line\n",
        "  plt.plot(x, y_pred, color = \"g\")\n",
        "\n",
        "  # putting labels\n",
        "  plt.xlabel('x')\n",
        "  plt.ylabel('y')"
      ],
      "metadata": {
        "id": "cA-NtzihwlVU"
      },
      "execution_count": null,
      "outputs": []
    },
    {
      "cell_type": "code",
      "source": [
        "# Import necessary libraries\n",
        "import numpy as np\n",
        "import matplotlib.pyplot as plt\n",
        "from sklearn.linear_model import LinearRegression\n",
        "from sklearn.model_selection import train_test_split\n",
        "from sklearn.metrics import mean_squared_error, r2_score\n",
        "\n",
        "# Generate some synthetic data\n",
        "np.random.seed(42)  # For reproducibility\n",
        "X = 2 * np.random.rand(100, 1)  # Feature (100 samples, single feature)\n",
        "y = 4 + 3 * X + np.random.randn(100, 1)  # Target (y = 4 + 3x + noise)\n",
        "\n",
        "# Split the data into training and testing sets\n",
        "X_train, X_test, y_train, y_test = train_test_split(X, y, test_size=0.2, random_state=42)\n",
        "\n",
        "# Create and train the linear regression model\n",
        "model = LinearRegression()\n",
        "model.fit(X_train, y_train)\n",
        "\n",
        "# Make predictions on the test set\n",
        "y_pred = model.predict(X_test)\n",
        "\n",
        "# Print model parameters\n",
        "print(\"Intercept (b0):\", model.intercept_)\n",
        "print(\"Coefficient (b1):\", model.coef_)\n",
        "\n",
        "# Evaluate the model\n",
        "print(\"Mean Squared Error:\", mean_squared_error(y_test, y_pred))\n",
        "print(\"R^2 Score:\", r2_score(y_test, y_pred))\n",
        "\n",
        "# Plot the results\n",
        "plt.scatter(X, y, color='blue', label='Data')\n",
        "plt.plot(X, model.predict(X), color='red', label='Regression Line')\n",
        "plt.xlabel('X')\n",
        "plt.ylabel('y')\n",
        "plt.legend()\n",
        "plt.show()\n"
      ],
      "metadata": {
        "colab": {
          "base_uri": "https://localhost:8080/",
          "height": 518
        },
        "id": "CMfOzY3Bwzt7",
        "outputId": "42be9032-1f6b-47fa-993b-8119ca01224f"
      },
      "execution_count": null,
      "outputs": [
        {
          "output_type": "stream",
          "name": "stdout",
          "text": [
            "Intercept (b0): [4.14291332]\n",
            "Coefficient (b1): [[2.79932366]]\n",
            "Mean Squared Error: 0.6536995137170021\n",
            "R^2 Score: 0.8072059636181392\n"
          ]
        },
        {
          "output_type": "display_data",
          "data": {
            "text/plain": [
              "<Figure size 640x480 with 1 Axes>"
            ],
            "image/png": "[encoded data removed]"
          },
          "metadata": {}
        }
      ]
    },
    {
      "cell_type": "code",
      "source": [
        "from scipy.optimize import minimize\n",
        "\n",
        "def eqn(x):\n",
        "  return x**2 + x + 2\n",
        "\n",
        "mymin = minimize(eqn, 0, method='BFGS')\n",
        "\n",
        "print(eqn(2))\n",
        "print(mymin)"
      ],
      "metadata": {
        "colab": {
          "base_uri": "https://localhost:8080/"
        },
        "id": "HHs6hqcPTSYp",
        "outputId": "ec296da8-ae6f-478c-fe84-68c3b413a02f"
      },
      "execution_count": null,
      "outputs": [
        {
          "output_type": "stream",
          "name": "stdout",
          "text": [
            "8\n",
            "  message: Optimization terminated successfully.\n",
            "  success: True\n",
            "   status: 0\n",
            "      fun: 1.75\n",
            "        x: [-5.000e-01]\n",
            "      nit: 2\n",
            "      jac: [ 0.000e+00]\n",
            " hess_inv: [[ 5.000e-01]]\n",
            "     nfev: 8\n",
            "     njev: 4\n"
          ]
        }
      ]
    },
    {
      "cell_type": "code",
      "source": [
        "from scipy import io\n",
        "import numpy as np\n",
        "\n",
        "arr = np.arange(10)\n",
        "\n",
        "io.savemat('arr.mat', {\"vec\": arr})"
      ],
      "metadata": {
        "id": "-PEodyznXcjk"
      },
      "execution_count": null,
      "outputs": []
    },
    {
      "cell_type": "markdown",
      "source": [],
      "metadata": {
        "id": "XKMrzawzXwO6"
      }
    },
    {
      "cell_type": "code",
      "source": [
        "import matplotlib.pyplot as plt\n",
        "import numpy as np\n",
        "\n",
        "x = np.array([\"A\", \"B\", \"C\", \"D\"])\n",
        "y = np.array([3, 8, 1, 10])\n",
        "\n",
        "plt.bar(x,y)\n",
        "plt.show()"
      ],
      "metadata": {
        "colab": {
          "base_uri": "https://localhost:8080/",
          "height": 430
        },
        "id": "44e9qOnFXwzj",
        "outputId": "d08a1d5a-0f8c-4189-844d-3e3273311659"
      },
      "execution_count": null,
      "outputs": [
        {
          "output_type": "display_data",
          "data": {
            "text/plain": [
              "<Figure size 640x480 with 1 Axes>"
            ],
            "image/png": "[encoded data removed]"
          },
          "metadata": {}
        }
      ]
    },
    {
      "cell_type": "code",
      "source": [
        "import matplotlib.pyplot as plt\n",
        "import numpy as np\n",
        "\n",
        "x = np.array([5,7,8,7,2,17,2,9,4,11,12,9,6])\n",
        "y = np.array([99,86,87,88,111,86,103,87,94,78,77,85,86])\n",
        "\n",
        "plt.scatter(x, y)\n",
        "plt.show()"
      ],
      "metadata": {
        "colab": {
          "base_uri": "https://localhost:8080/",
          "height": 430
        },
        "id": "Q4w0F27XX4sn",
        "outputId": "89645ef3-38b6-4443-b77e-8969553c60c5"
      },
      "execution_count": null,
      "outputs": [
        {
          "output_type": "display_data",
          "data": {
            "text/plain": [
              "<Figure size 640x480 with 1 Axes>"
            ],
            "image/png": "[encoded data removed]"
          },
          "metadata": {}
        }
      ]
    },
    {
      "cell_type": "code",
      "source": [
        "import numpy\n",
        "import matplotlib.pyplot as plt\n",
        "\n",
        "x = numpy.random.normal(5.0, 1.0, 100000)\n",
        "\n",
        "plt.hist(x, 100)\n",
        "plt.show()"
      ],
      "metadata": {
        "colab": {
          "base_uri": "https://localhost:8080/",
          "height": 430
        },
        "id": "1MJqtVIcYWyF",
        "outputId": "8382911f-ca25-48ee-f706-69ad95882f29"
      },
      "execution_count": null,
      "outputs": [
        {
          "output_type": "display_data",
          "data": {
            "text/plain": [
              "<Figure size 640x480 with 1 Axes>"
            ],
            "image/png": "[encoded data removed]"
          },
          "metadata": {}
        }
      ]
    }
  ]
}