{
  "nbformat": 4,
  "nbformat_minor": 0,
  "metadata": {
    "colab": {
      "provenance": [],
      "authorship_tag": "ABX9TyMY5tvkHTRJoyclVRNasteV",
      "include_colab_link": true
    },
    "kernelspec": {
      "name": "python3",
      "display_name": "Python 3"
    },
    "language_info": {
      "name": "python"
    }
  },
  "cells": [
    {
      "cell_type": "markdown",
      "metadata": {
        "id": "view-in-github",
        "colab_type": "text"
      },
      "source": [
        "<a href=\"https://colab.research.google.com/github/rahmanziaur/EDGEICTLive/blob/main/19JuneOOPPracticePython.ipynb\" target=\"_parent\"><img src=\"https://colab.research.google.com/assets/colab-badge.svg\" alt=\"Open In Colab\"/></a>"
      ]
    },
    {
      "cell_type": "markdown",
      "source": [
        "**### Develop two classes to test how a function and contructor are bound to each other.**"
      ],
      "metadata": {
        "id": "5bxaOwl9_vgB"
      }
    },
    {
      "cell_type": "code",
      "execution_count": 1,
      "metadata": {
        "id": "i1mg2nZw_pQT"
      },
      "outputs": [],
      "source": [
        "class Cow:\n",
        "\n",
        "    def __init__(self):\n",
        "        self.cowDict = {}\n",
        "\n",
        "    def updateDict(self, name, location):\n",
        "        self.cowDict.update({name: location})\n",
        "\n",
        "    def view(self):\n",
        "        print(self.cowDict)\n",
        "        #print(\"Location:\", self.locationList)"
      ]
    },
    {
      "cell_type": "code",
      "source": [
        "!wget 'https://raw.githubusercontent.com/rahmanziaur/EDGEICTLive/refs/heads/main/Cow.py'"
      ],
      "metadata": {
        "colab": {
          "base_uri": "https://localhost:8080/"
        },
        "id": "ssznCLfpBFR3",
        "outputId": "fb3e04a7-4af4-4fd9-f3b0-fd65936bcd8c"
      },
      "execution_count": 6,
      "outputs": [
        {
          "output_type": "stream",
          "name": "stdout",
          "text": [
            "--2025-06-19 11:49:38--  https://raw.githubusercontent.com/rahmanziaur/EDGEICTLive/refs/heads/main/Cow.py\n",
            "Resolving raw.githubusercontent.com (raw.githubusercontent.com)... 185.199.109.133, 185.199.110.133, 185.199.108.133, ...\n",
            "Connecting to raw.githubusercontent.com (raw.githubusercontent.com)|185.199.109.133|:443... connected.\n",
            "HTTP request sent, awaiting response... 200 OK\n",
            "Length: 256 [text/plain]\n",
            "Saving to: ‘Cow.py’\n",
            "\n",
            "\rCow.py                0%[                    ]       0  --.-KB/s               \rCow.py              100%[===================>]     256  --.-KB/s    in 0s      \n",
            "\n",
            "2025-06-19 11:49:38 (14.2 MB/s) - ‘Cow.py’ saved [256/256]\n",
            "\n"
          ]
        }
      ]
    },
    {
      "cell_type": "code",
      "source": [
        "import Cow as cw #importing Cow module as cw\n",
        "\n",
        "class MainClass: # creating a new class\n",
        "    def __init__(self): #constructor of MainCLass, do nothing\n",
        "        pass\n",
        "\n",
        "    if __name__=='__main__': #main method of MainClass\n",
        "\n",
        "        print('Enter Cowname and Location or press name -1 to exit')\n",
        "        #op = input('Enter option -1 to exit')\n",
        "        cobj = cw.Cow()\n",
        "\n",
        "        while True:\n",
        "            name = input('Enter Cow Name:')\n",
        "            if name == '-1': break\n",
        "            location = input('Enter Location:')\n",
        "            cobj.updateDict(name,location)\n",
        "        cobj.view()\n",
        "\n"
      ],
      "metadata": {
        "colab": {
          "base_uri": "https://localhost:8080/"
        },
        "id": "_koXdhm-ARKc",
        "outputId": "62bcb788-43e9-4ff6-9fa6-f76699507c7b"
      },
      "execution_count": 7,
      "outputs": [
        {
          "output_type": "stream",
          "name": "stdout",
          "text": [
            "Enter Cowname and Location or press name -1 to exit\n",
            "Enter Cow Name:Kala Manik\n",
            "Enter Location:Babystand\n",
            "Enter Cow Name:King\n",
            "Enter Location:Ghatail\n",
            "Enter Cow Name:Hybrid\n",
            "Enter Location:MBSTU\n",
            "Enter Cow Name:-1\n",
            "{'Kala Manik': 'Babystand', 'King': 'Ghatail', 'Hybrid': 'MBSTU'}\n"
          ]
        }
      ]
    },
    {
      "cell_type": "markdown",
      "source": [
        "**Try to read dict item one by one using loop?**"
      ],
      "metadata": {
        "id": "OlyPttCCCQeX"
      }
    }
  ]
}