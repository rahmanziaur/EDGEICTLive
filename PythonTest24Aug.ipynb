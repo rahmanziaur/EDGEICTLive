{
  "nbformat": 4,
  "nbformat_minor": 0,
  "metadata": {
    "colab": {
      "provenance": [],
      "authorship_tag": "ABX9TyPO+xS+0JoX5/6SLy1JYqk1",
      "include_colab_link": true
    },
    "kernelspec": {
      "name": "python3",
      "display_name": "Python 3"
    },
    "language_info": {
      "name": "python"
    }
  },
  "cells": [
    {
      "cell_type": "markdown",
      "metadata": {
        "id": "view-in-github",
        "colab_type": "text"
      },
      "source": [
        "<a href=\"https://colab.research.google.com/github/rahmanziaur/EDGEICT/blob/main/PythonTest24Aug.ipynb\" target=\"_parent\"><img src=\"https://colab.research.google.com/assets/colab-badge.svg\" alt=\"Open In Colab\"/></a>"
      ]
    },
    {
      "cell_type": "code",
      "execution_count": 1,
      "metadata": {
        "colab": {
          "base_uri": "https://localhost:8080/"
        },
        "id": "GtYOYEBa-QDI",
        "outputId": "7dcb2dd7-c94a-4f9b-8d67-fb2e24f8bdf6"
      },
      "outputs": [
        {
          "output_type": "stream",
          "name": "stdout",
          "text": [
            "Py\n"
          ]
        }
      ],
      "source": [
        "word= \"Python\"\n",
        "print(word[0:2])"
      ]
    },
    {
      "cell_type": "markdown",
      "source": [
        "**Fibonacci Series**"
      ],
      "metadata": {
        "id": "qwmEqpnVBDqK"
      }
    },
    {
      "cell_type": "code",
      "source": [
        "a, b = 0, 1\n",
        "while a < 100:\n",
        "  print(a, end=',')\n",
        "  a, b = b, a +b"
      ],
      "metadata": {
        "colab": {
          "base_uri": "https://localhost:8080/"
        },
        "id": "KGI7g-K5A1kz",
        "outputId": "bef26519-4bea-4a5c-a27f-456f65a57365"
      },
      "execution_count": 4,
      "outputs": [
        {
          "output_type": "stream",
          "name": "stdout",
          "text": [
            "0,1,1,2,3,5,8,13,21,34,55,89,"
          ]
        }
      ]
    },
    {
      "cell_type": "code",
      "source": [
        "x = int(input(\"Enter an interger\"))\n",
        "\n",
        "if x < 1:\n",
        "  x = 0\n",
        "  print(\"negative change to zero\")\n",
        "elif x == 0:\n",
        "  print(\"Zero\")\n",
        "elif x ==1:\n",
        "  print(\"Single\")\n",
        "else:\n",
        "  print(\"More\")"
      ],
      "metadata": {
        "colab": {
          "base_uri": "https://localhost:8080/"
        },
        "id": "Ro4IQKM5ByZj",
        "outputId": "e8f71de3-5f4a-44bd-f35a-0794863466a4"
      },
      "execution_count": 5,
      "outputs": [
        {
          "output_type": "stream",
          "name": "stdout",
          "text": [
            "Enter an interger12\n",
            "More\n"
          ]
        }
      ]
    }
  ]
}