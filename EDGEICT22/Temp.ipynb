{
 "cells": [
  {
   "cell_type": "code",
   "execution_count": 2,
   "id": "bd584631-52dc-4931-95d5-35b04143c50e",
   "metadata": {},
   "outputs": [
    {
     "name": "stdout",
     "output_type": "stream",
     "text": [
      "<class 'int'>  =  28\n"
     ]
    }
   ],
   "source": [
    "import sys\n",
    "x = 3\n",
    "print(type(x),\" = \",sys.getsizeof(x))"
   ]
  },
  {
   "cell_type": "code",
   "execution_count": 3,
   "id": "655df980-d1b5-437b-aac6-d8228b3f7da2",
   "metadata": {},
   "outputs": [
    {
     "name": "stdout",
     "output_type": "stream",
     "text": [
      "<class 'str'>  =  42\n"
     ]
    }
   ],
   "source": [
    "import sys\n",
    "x = str(3)\n",
    "print(type(x),\" = \",sys.getsizeof(x))"
   ]
  },
  {
   "cell_type": "code",
   "execution_count": 17,
   "id": "5bb3141a-b3be-4e7d-9697-c9387b980827",
   "metadata": {},
   "outputs": [
    {
     "name": "stdout",
     "output_type": "stream",
     "text": [
      "x =  b'97' = <class 'bytes'>  =  35\n",
      "y =  97 = <class 'str'>  =  43\n"
     ]
    }
   ],
   "source": [
    "import sys\n",
    "x = b\"97\"\n",
    "y = x.decode()\n",
    "print(\"x = \",x,\"=\", type(x),\" = \",sys.getsizeof(x))\n",
    "print(\"y = \",y,\"=\", type(y),\" = \",sys.getsizeof(y))"
   ]
  },
  {
   "cell_type": "code",
   "execution_count": 20,
   "id": "da774c1b-5f2a-41dd-9023-b2c244754095",
   "metadata": {},
   "outputs": [
    {
     "name": "stdout",
     "output_type": "stream",
     "text": [
      "b'\\xc3\\xa9clair'\n",
      "éclair\n"
     ]
    }
   ],
   "source": [
    "data = b\"\\xc3\\xa9clair\"\n",
    "print(str(data))\n",
    "text = data.decode(encoding=\"utf-8\")\n",
    "print(text)"
   ]
  },
  {
   "cell_type": "code",
   "execution_count": 22,
   "id": "7d8dda1d-4567-494d-bff7-30d873d6e7a1",
   "metadata": {},
   "outputs": [
    {
     "name": "stdout",
     "output_type": "stream",
     "text": [
      "<class 'list'> 120\n",
      "<class 'bytes'> 41\n"
     ]
    }
   ],
   "source": [
    "import sys\n",
    "li = [68, 97, 116, 97, 67, 97, 109, 112]\n",
    "print(type(li),sys.getsizeof(li) )\n",
    "data = bytes(li)\n",
    "print(type(data), sys.getsizeof(data))"
   ]
  }
 ],
 "metadata": {
  "kernelspec": {
   "display_name": "Python 3 (ipykernel)",
   "language": "python",
   "name": "python3"
  },
  "language_info": {
   "codemirror_mode": {
    "name": "ipython",
    "version": 3
   },
   "file_extension": ".py",
   "mimetype": "text/x-python",
   "name": "python",
   "nbconvert_exporter": "python",
   "pygments_lexer": "ipython3",
   "version": "3.13.0"
  }
 },
 "nbformat": 4,
 "nbformat_minor": 5
}
