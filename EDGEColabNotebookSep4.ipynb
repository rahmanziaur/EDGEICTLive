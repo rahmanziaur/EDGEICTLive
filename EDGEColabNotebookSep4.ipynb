{
  "nbformat": 4,
  "nbformat_minor": 0,
  "metadata": {
    "colab": {
      "provenance": [],
      "mount_file_id": "1_vvUvnfoaXsRD5t7sz0IDO_5zN97U-Ee",
      "authorship_tag": "ABX9TyPsKUhEBj6v2ASv7O7zqcab",
      "include_colab_link": true
    },
    "kernelspec": {
      "name": "python3",
      "display_name": "Python 3"
    },
    "language_info": {
      "name": "python"
    }
  },
  "cells": [
    {
      "cell_type": "markdown",
      "metadata": {
        "id": "view-in-github",
        "colab_type": "text"
      },
      "source": [
        "<a href=\"https://colab.research.google.com/github/rahmanziaur/EDGEICT/blob/main/EDGEColabNotebookSep4.ipynb\" target=\"_parent\"><img src=\"https://colab.research.google.com/assets/colab-badge.svg\" alt=\"Open In Colab\"/></a>"
      ]
    },
    {
      "cell_type": "code",
      "execution_count": 1,
      "metadata": {
        "colab": {
          "base_uri": "https://localhost:8080/"
        },
        "id": "pSJ21E5xHcE7",
        "outputId": "f9767aac-0af0-477c-b934-a7b60a5393f4"
      },
      "outputs": [
        {
          "output_type": "stream",
          "name": "stdout",
          "text": [
            "a + b =  25\n"
          ]
        }
      ],
      "source": [
        "a = 12\n",
        "b = 13\n",
        "print(\"a + b = \", a+b)"
      ]
    },
    {
      "cell_type": "code",
      "source": [],
      "metadata": {
        "id": "dwJ41n44Ho69"
      },
      "execution_count": null,
      "outputs": []
    }
  ]
}