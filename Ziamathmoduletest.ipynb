{
  "nbformat": 4,
  "nbformat_minor": 0,
  "metadata": {
    "colab": {
      "provenance": [],
      "authorship_tag": "ABX9TyONy0s9mNxhTYb3VLwhJBgb",
      "include_colab_link": true
    },
    "kernelspec": {
      "name": "python3",
      "display_name": "Python 3"
    },
    "language_info": {
      "name": "python"
    }
  },
  "cells": [
    {
      "cell_type": "markdown",
      "metadata": {
        "id": "view-in-github",
        "colab_type": "text"
      },
      "source": [
        "<a href=\"https://colab.research.google.com/github/rahmanziaur/EDGEICT/blob/main/Ziamathmoduletest.ipynb\" target=\"_parent\"><img src=\"https://colab.research.google.com/assets/colab-badge.svg\" alt=\"Open In Colab\"/></a>"
      ]
    },
    {
      "cell_type": "code",
      "execution_count": null,
      "metadata": {
        "id": "7fUOZ190v0IQ"
      },
      "outputs": [],
      "source": [
        "def MBSTU_TotalDept(f_engg, f_ls, Others):\n",
        "  total_dept = f_engg + f_ls + Others\n",
        "  return total_dept"
      ]
    },
    {
      "cell_type": "code",
      "source": [
        "f_engg = int(input(\"Enter no of Dept of f_engg:\"))\n",
        "f_ls = int(input(\"Enter no of Dept of f_ls:\"))\n",
        "others = int(input(\"Enter no of other dept:\"))\n",
        "\n",
        "print(\"Total dept of MBSTU:\",MBSTU_TotalDept(f_engg, f_ls, others))"
      ],
      "metadata": {
        "colab": {
          "base_uri": "https://localhost:8080/"
        },
        "id": "nftmhVMQwckh",
        "outputId": "e37b534b-3695-45b2-c6d1-a7dc1eb94a45"
      },
      "execution_count": null,
      "outputs": [
        {
          "output_type": "stream",
          "name": "stdout",
          "text": [
            "Enter no of Dept of f_engg:3\n",
            "Enter no of Dept of f_ls:10\n",
            "Enter no of other dept:6\n",
            "Total dept of MBSTU: 19\n"
          ]
        }
      ]
    },
    {
      "cell_type": "code",
      "source": [
        "import datetime\n",
        "\n",
        "x = datetime.datetime.now()\n",
        "\n",
        "print(x.year)\n",
        "print(x.strftime(\"%A\"))"
      ],
      "metadata": {
        "colab": {
          "base_uri": "https://localhost:8080/"
        },
        "id": "wpb69EdQw9Gs",
        "outputId": "3d52700e-e084-495e-a5a8-deab8ba7d29b"
      },
      "execution_count": null,
      "outputs": [
        {
          "output_type": "stream",
          "name": "stdout",
          "text": [
            "2024\n",
            "Wednesday\n"
          ]
        }
      ]
    },
    {
      "cell_type": "code",
      "source": [
        "from datetime import date"
      ],
      "metadata": {
        "id": "4RhL1o22HX4c"
      },
      "execution_count": null,
      "outputs": []
    },
    {
      "cell_type": "code",
      "source": [
        "date.fromisoformat('2019-12-04')"
      ],
      "metadata": {
        "colab": {
          "base_uri": "https://localhost:8080/"
        },
        "id": "9hZF7o9jHd28",
        "outputId": "4a039189-0347-47ef-9c47-be96e58094e5"
      },
      "execution_count": null,
      "outputs": [
        {
          "output_type": "execute_result",
          "data": {
            "text/plain": [
              "datetime.date(2019, 12, 4)"
            ]
          },
          "metadata": {},
          "execution_count": 9
        }
      ]
    },
    {
      "cell_type": "code",
      "source": [
        "import math"
      ],
      "metadata": {
        "id": "7XSClCvfI1vg"
      },
      "execution_count": null,
      "outputs": []
    },
    {
      "cell_type": "code",
      "source": [
        "print(math.pi)"
      ],
      "metadata": {
        "colab": {
          "base_uri": "https://localhost:8080/"
        },
        "id": "hVmTOhM-I3cD",
        "outputId": "ea1d3540-3733-4073-f3be-e3dd1f8019bc"
      },
      "execution_count": null,
      "outputs": [
        {
          "output_type": "stream",
          "name": "stdout",
          "text": [
            "3.141592653589793\n"
          ]
        }
      ]
    },
    {
      "cell_type": "code",
      "source": [],
      "metadata": {
        "id": "HZugfhowJSaC"
      },
      "execution_count": null,
      "outputs": []
    },
    {
      "cell_type": "code",
      "source": [
        "from math import pi\n",
        "\n",
        "fraser = str(pi)"
      ],
      "metadata": {
        "id": "btlVb2vWJSdE"
      },
      "execution_count": null,
      "outputs": []
    },
    {
      "cell_type": "code",
      "source": [
        "print(fraser)"
      ],
      "metadata": {
        "colab": {
          "base_uri": "https://localhost:8080/"
        },
        "id": "vpjBSWajJXjr",
        "outputId": "e62d40cc-4336-4e9c-e5a2-331cda0cec73"
      },
      "execution_count": null,
      "outputs": [
        {
          "output_type": "stream",
          "name": "stdout",
          "text": [
            "3.141592653589793\n"
          ]
        }
      ]
    },
    {
      "cell_type": "code",
      "source": [
        "from math import pi\n",
        "\n",
        "fraser = str(pi)\n",
        "\n",
        "length_of_pi = []\n",
        "\n",
        "number_of_places = raw_input(\"Enter the number of decimal places you want to se: \")\n",
        "\n",
        "for number_of_places in fraser:\n",
        "    length_of_pi.append(str(number_of_places))\n",
        "\n",
        "print \"\".join(length_of_pi)"
      ],
      "metadata": {
        "colab": {
          "base_uri": "https://localhost:8080/",
          "height": 108
        },
        "id": "US75lNRUJsKd",
        "outputId": "fdfc7b5c-603e-4007-d3f1-be1c5707ddcf"
      },
      "execution_count": null,
      "outputs": [
        {
          "output_type": "error",
          "ename": "SyntaxError",
          "evalue": "Missing parentheses in call to 'print'. Did you mean print(...)? (<ipython-input-14-8f90703f6950>, line 12)",
          "traceback": [
            "\u001b[0;36m  File \u001b[0;32m\"<ipython-input-14-8f90703f6950>\"\u001b[0;36m, line \u001b[0;32m12\u001b[0m\n\u001b[0;31m    print \"\".join(length_of_pi)\u001b[0m\n\u001b[0m    ^\u001b[0m\n\u001b[0;31mSyntaxError\u001b[0m\u001b[0;31m:\u001b[0m Missing parentheses in call to 'print'. Did you mean print(...)?\n"
          ]
        }
      ]
    },
    {
      "cell_type": "code",
      "source": [
        "# prompt: python code print pi value 50 digit\n",
        "\n",
        "import decimal\n",
        "\n",
        "# Set the precision for decimal calculations\n",
        "decimal.getcontext().prec = 52  # Set precision to 52 digits (including the integer part)\n",
        "\n",
        "# Calculate pi using the decimal module\n",
        "pi_value = decimal.Decimal(str(decimal.Decimal(3.14159265358979323846264338327950288419716939937510)))\n",
        "\n",
        "# Format the output to display 50 decimal places\n",
        "formatted_pi = \"{:.50f}\".format(pi_value)\n",
        "formatted_pi"
      ],
      "metadata": {
        "id": "OIjacsSRJtz7"
      },
      "execution_count": null,
      "outputs": []
    },
    {
      "cell_type": "code",
      "source": [
        "from mpmath import mp\n",
        "\n",
        "def print_pi_to_n_digits(n):\n",
        "    # Set precision to n decimal places\n",
        "    mp.dps = n + 1  # Adding 1 to account for the \"3.\" before the decimals\n",
        "    # Return pi to n decimal places as a string\n",
        "    return str(mp.pi)\n"
      ],
      "metadata": {
        "id": "jnDdTrVgLMYk"
      },
      "execution_count": null,
      "outputs": []
    },
    {
      "cell_type": "code",
      "source": [
        "print_pi_to_n_digits(50000000)"
      ],
      "metadata": {
        "colab": {
          "base_uri": "https://localhost:8080/",
          "height": 567
        },
        "id": "-86IWVFHLNps",
        "outputId": "f0c99536-b60c-49da-8b5d-5e680307dbcd"
      },
      "execution_count": null,
      "outputs": [
        {
          "output_type": "execute_result",
          "data": {
            "text/plain": [
              "'3.14159265358979323846264338327950288419716939937510582097494459230781640628620899862803482534211706798214808651328230664709384460955058223172535940812848111745028410270193852110555964462294895493038196442881097566593344612847564823378678316527120190914564856692346034861045432664821339360726024914127372458700660631558817488152092096282925409171536436789259036001133053054882046652138414695194151160943305727036575959195309218611738193261179310511854807446237996274956735188575272489122793818301194912983367336244065664308602139494639522473719070217986094370277053921717629317675238467481846766940513200056812714526356082778577134275778960917363717872146844090122495343014654958537105079227968925892354201995611212902196086403441815981362977477130996051870721134999999837297804995105973173281609631859502445945534690830264252230825334468503526193118817101000313783875288658753320838142061717766914730359825349042875546873115956286388235378759375195778185778053217122680661300192787661119590921642019893809525720106548586327886593615338182796823030195203530185296899577362259941389124972177528347913151557485724245415069595082953311686172785588907509838175463746493931925506040092770167113900984882401285836160356370766010471018194295559619894676783744944825537977472684710404753464620804668425906949129331367702898915210475216205696602405803815019351125338243003558764024749647326391419927260426992279678235478163600934172164121992458631503028618297455570674983850549458858692699569092721079750930295532116534498720275596023648066549911988183479775356636980742654252786255181841757467289097777279380008164706001614524919217321721477235014144197356854816136115735255213347574184946843852332390739414333454776241686251898356948556209921922218427255025425688767179049460165346680498862723279178608578438382796797668145410095388378636095068006422512520511739298489608412848862694560424196528502221066118630674427862203919494504712371378696095636437191728746776465757396241389086583264599581339047802759009946576407895126946839835259570982582262052248940772671947826848260147699090264013639443745530506820349625245174939965143142980919065925093722169646151570985838741059788595977297549893016175392846813826868386894277415599185592524595395943104997252468084598727364469584865383673622262609912460805124388439045124413654976278079771569143599770012961608944169486855584840635342207222582848864815845602850601684273945226746767889525213852254995466672782398645659611635488623057745649803559363456817432411251507606947945109659609402522887971089314566913686722874894056010150330861792868092087476091782493858900971490967598526136554978189312978482168299894872265880485756401427047755513237964145152374623436454285844479526586782105114135473573952311342716610213596953623144295248493718711014576540359027993440374200731057853906219838744780847848968332144571386875194350643021845319104848100537061468067491927819119793995206141966342875444064374512371819217999839101591956181467514269123974894090718649423196156794520809514655022523160388193014209376213785595663893778708303906979207734672218256259966150142150306803844773454920260541466592520149744285073251866600213243408819071048633173464965145390579626856100550810665879699816357473638405257145910289706414011097120628043903975951567715770042033786993600723055876317635942187312514712053292819182618612586732157919841484882916447060957527069572209175671167229109816909152801735067127485832228718352093539657251210835791513698820914442100675103346711031412671113699086585163983150197016515116851714376576183515565088490998985998238734552833163550764791853589322618548963213293308985706420467525907091548141654985946163718027098199430992448895757128289059232332609729971208443357326548938239119325974636673058360414281388303203824903758985243744170291327656180937734440307074692112019130203303801976211011004492932151608424448596376698389522868478312355265821314495768572624334418930396864262434107732269780280731891544110104468232527162010526522721116603966655730925471105578537634668206531098965269186205647693125705863566201855810072936065987648611791045334885034611365768675324944166803962657978771855608455296541266540853061434443185867697514566140680070023787765913440171274947042056223053899456131407112700040785473326993908145466464588079727082668306343285878569830523580893306575740679545716377525420211495576158140025012622859413021647155097925923099079654737612551765675135751782966645477917450112996148903046399471329621073404375189573596145890193897131117904297828564750320319869151402870808599048010941214722131794764777262241425485454033215718530614228813758504306332175182979866223717215916077166925474873898665494945011465406284336639379003976926567214638530673609657120918076383271664162748888007869256029022847210403172118608204190004229661711963779213375751149595015660496318629472654736425230817703675159067350235072835405670403867435136222247715891504953098444893330963408780769325993978054193414473774418426312986080998886874132604722'"
            ],
            "application/vnd.google.colaboratory.intrinsic+json": {
              "type": "string"
            }
          },
          "metadata": {},
          "execution_count": 17
        }
      ]
    },
    {
      "cell_type": "code",
      "source": [
        "#Import math library\n",
        "import math\n",
        "#Floor and Ceiling\n",
        "print('The Floor and Ceiling value of 9.45 are:' + str(math.ceil(9.45)) + ', ' + str(math.floor(9.45)))\n",
        "\n",
        "#Copysign\n",
        "x = 94\n",
        "y = -27\n",
        "print('The value of x after copying the sign from y is: ' + str(math.copysign(x, y)))\n",
        "\n",
        "#Absolute\n",
        "print('Absolute value of -94 and 54 are: ' + str(math.fabs(-94)) + ', ' + str(math.fabs(54)))\n",
        "\n",
        "#Fsum & gcd\n",
        "my_list = [12, 9.25, 89, 3.02, -75.23, -7.2, 6.3]\n",
        "print('Sum of the elements of the list: ' + str(math.fsum(my_list)))\n",
        "print('The GCD of 24 and 56 : ' + str(math.gcd(24, 48)))\n",
        "\n",
        "#isnan\n",
        "x = float('nan')\n",
        "if math.isnan(x):\n",
        "   print('It is not a number')\n",
        "      #x = float('inf')\n",
        "\n",
        "#isinf\n",
        "y = 54\n",
        "if math.isinf(x):\n",
        "   print('It is Infinity')\n",
        "      #x is not a finite number\n",
        "print(math.isfinite(x))\n",
        "   #y is a finite number\n",
        "print(math.isfinite(y))"
      ],
      "metadata": {
        "colab": {
          "base_uri": "https://localhost:8080/"
        },
        "id": "tsjv5tSoA4Ov",
        "outputId": "7f8de966-8070-4d50-c2fe-2550fb31acc2"
      },
      "execution_count": null,
      "outputs": [
        {
          "output_type": "stream",
          "name": "stdout",
          "text": [
            "The Floor and Ceiling value of 9.45 are:10, 9\n",
            "The value of x after copying the sign from y is: -94.0\n",
            "Absolute value of -94 and 54 are: 94.0, 54.0\n",
            "Sum of the elements of the list: 37.13999999999999\n",
            "The GCD of 24 and 56 : 24\n",
            "It is not a number\n",
            "False\n",
            "True\n"
          ]
        }
      ]
    },
    {
      "cell_type": "code",
      "source": [
        "import sys\n",
        "!wget https://raw.githubusercontent.com/rahmanziaur/EDGEICT/refs/heads/main/ZiaMathTest.py\n",
        "\n",
        "sys.path.append('/content')\n",
        "\n",
        "import ZiaMathTest as mt\n",
        "\n",
        "n = int(input(\"Enter digit:\"))\n",
        "\n",
        "print(mt.print_pi_to_n_digits(n))"
      ],
      "metadata": {
        "colab": {
          "base_uri": "https://localhost:8080/"
        },
        "id": "WBDYpQ6bfgR4",
        "outputId": "456ebae5-7a79-4364-811e-5a2c3e9fe6b2"
      },
      "execution_count": null,
      "outputs": [
        {
          "output_type": "stream",
          "name": "stdout",
          "text": [
            "--2024-11-01 11:36:57--  https://raw.githubusercontent.com/rahmanziaur/EDGEICT/refs/heads/main/ZiaMathTest.py\n",
            "Resolving raw.githubusercontent.com (raw.githubusercontent.com)... 185.199.108.133, 185.199.109.133, 185.199.110.133, ...\n",
            "Connecting to raw.githubusercontent.com (raw.githubusercontent.com)|185.199.108.133|:443... connected.\n",
            "HTTP request sent, awaiting response... 200 OK\n",
            "Length: 252 [text/plain]\n",
            "Saving to: ‘ZiaMathTest.py’\n",
            "\n",
            "\rZiaMathTest.py        0%[                    ]       0  --.-KB/s               \rZiaMathTest.py      100%[===================>]     252  --.-KB/s    in 0s      \n",
            "\n",
            "2024-11-01 11:36:57 (3.78 MB/s) - ‘ZiaMathTest.py’ saved [252/252]\n",
            "\n",
            "Enter digit:1000\n",
            "3.1415926535897932384626433832795028841971693993751058209749445923078164062862089986280348253421170679821480865132823066470938446095505822317253594081284811174502841027019385211055596446229489549303819644288109756659334461284756482337867831652712019091456485669234603486104543266482133936072602491412737245870066063155881748815209209628292540917153643678925903600113305305488204665213841469519415116094330572703657595919530921861173819326117931051185480744623799627495673518857527248912279381830119491298336733624406566430860213949463952247371907021798609437027705392171762931767523846748184676694051320005681271452635608277857713427577896091736371787214684409012249534301465495853710507922796892589235420199561121290219608640344181598136297747713099605187072113499999983729780499510597317328160963185950244594553469083026425223082533446850352619311881710100031378387528865875332083814206171776691473035982534904287554687311595628638823537875937519577818577805321712268066130019278766111959092164201989\n"
          ]
        }
      ]
    },
    {
      "cell_type": "code",
      "source": [],
      "metadata": {
        "id": "rDlEkljTgnsK"
      },
      "execution_count": null,
      "outputs": []
    }
  ]
}