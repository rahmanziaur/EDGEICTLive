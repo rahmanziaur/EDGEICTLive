{
  "nbformat": 4,
  "nbformat_minor": 0,
  "metadata": {
    "colab": {
      "provenance": [],
      "authorship_tag": "ABX9TyOiFixjxqZQVaIBOv6GvL24",
      "include_colab_link": true
    },
    "kernelspec": {
      "name": "python3",
      "display_name": "Python 3"
    },
    "language_info": {
      "name": "python"
    }
  },
  "cells": [
    {
      "cell_type": "markdown",
      "metadata": {
        "id": "view-in-github",
        "colab_type": "text"
      },
      "source": [
        "<a href=\"https://colab.research.google.com/github/rahmanziaur/EDGEICT/blob/main/PythonTest31Aug.ipynb\" target=\"_parent\"><img src=\"https://colab.research.google.com/assets/colab-badge.svg\" alt=\"Open In Colab\"/></a>"
      ]
    },
    {
      "cell_type": "markdown",
      "source": [
        "**Fazr Salah Rakah Calculation**"
      ],
      "metadata": {
        "id": "uVrztgeTmTRU"
      }
    },
    {
      "cell_type": "code",
      "source": [
        "def Fazr(sunnah, fard, Nafl):\n",
        "  total_rakah = sunnah + fard + Nafl\n",
        "  return total_rakah"
      ],
      "metadata": {
        "id": "aIJEWB1yb30a"
      },
      "execution_count": 10,
      "outputs": []
    },
    {
      "cell_type": "markdown",
      "source": [
        "**Zohr Salah Calculation**"
      ],
      "metadata": {
        "id": "Ivf0bsR2ma_S"
      }
    },
    {
      "cell_type": "code",
      "source": [
        "def Zohr(sunnah, fard, Nafl):\n",
        "  total_rakah = sunnah + fard + Nafl\n",
        "  return total_rakah"
      ],
      "metadata": {
        "id": "xAUrYx6umgji"
      },
      "execution_count": 14,
      "outputs": []
    },
    {
      "cell_type": "code",
      "source": [
        "print(\"What is the total number of Rakah of Fazr Salah?\")\n",
        "print(\"It is: \", Fazr(2, 2, 0))"
      ],
      "metadata": {
        "id": "KWSSLWMalcUu",
        "outputId": "956722fe-c8ef-48e3-9bfc-1d1d8a565b4e",
        "colab": {
          "base_uri": "https://localhost:8080/"
        }
      },
      "execution_count": 11,
      "outputs": [
        {
          "output_type": "stream",
          "name": "stdout",
          "text": [
            "What is the total number of Rakah of Fazr Salah?\n",
            "It is:  4\n"
          ]
        }
      ]
    },
    {
      "cell_type": "code",
      "source": [
        "print(\"What is the total number of Rakah of Zohr Salah?\")\n",
        "print(\"It is: \", Zohr(4, 6, 2))"
      ],
      "metadata": {
        "id": "_ON5dgP4mmQq",
        "outputId": "93c86b7a-003a-49e4-e04e-aed38f573b74",
        "colab": {
          "base_uri": "https://localhost:8080/"
        }
      },
      "execution_count": 15,
      "outputs": [
        {
          "output_type": "stream",
          "name": "stdout",
          "text": [
            "What is the total number of Rakah of Zohr Salah?\n",
            "It is:  12\n"
          ]
        }
      ]
    },
    {
      "cell_type": "code",
      "execution_count": null,
      "metadata": {
        "colab": {
          "base_uri": "https://localhost:8080/"
        },
        "id": "GtYOYEBa-QDI",
        "outputId": "7dcb2dd7-c94a-4f9b-8d67-fb2e24f8bdf6"
      },
      "outputs": [
        {
          "output_type": "stream",
          "name": "stdout",
          "text": [
            "Py\n"
          ]
        }
      ],
      "source": [
        "word= \"Python\"\n",
        "print(word[0:2])"
      ]
    },
    {
      "cell_type": "markdown",
      "source": [
        "**Fibonacci Series**"
      ],
      "metadata": {
        "id": "qwmEqpnVBDqK"
      }
    },
    {
      "cell_type": "code",
      "source": [
        "a, b = 0, 1\n",
        "while a < 100:\n",
        "  print(a, end=',')\n",
        "  a, b = b, a +b"
      ],
      "metadata": {
        "colab": {
          "base_uri": "https://localhost:8080/"
        },
        "id": "KGI7g-K5A1kz",
        "outputId": "bef26519-4bea-4a5c-a27f-456f65a57365"
      },
      "execution_count": null,
      "outputs": [
        {
          "output_type": "stream",
          "name": "stdout",
          "text": [
            "0,1,1,2,3,5,8,13,21,34,55,89,"
          ]
        }
      ]
    },
    {
      "cell_type": "code",
      "source": [
        "x = int(input(\"Enter an interger\"))\n",
        "\n",
        "if x < 1:\n",
        "  x = 0\n",
        "  print(\"negative change to zero\")\n",
        "elif x == 0:\n",
        "  print(\"Zero\")\n",
        "elif x ==1:\n",
        "  print(\"Single\")\n",
        "else:\n",
        "  print(\"More\")"
      ],
      "metadata": {
        "colab": {
          "base_uri": "https://localhost:8080/"
        },
        "id": "Ro4IQKM5ByZj",
        "outputId": "e8f71de3-5f4a-44bd-f35a-0794863466a4"
      },
      "execution_count": null,
      "outputs": [
        {
          "output_type": "stream",
          "name": "stdout",
          "text": [
            "Enter an interger12\n",
            "More\n"
          ]
        }
      ]
    }
  ]
}