{
  "nbformat": 4,
  "nbformat_minor": 0,
  "metadata": {
    "colab": {
      "provenance": [],
      "mount_file_id": "1k7MX7trPlTcxZdP_blk4ljfHJuyDdcmn",
      "authorship_tag": "ABX9TyPlVS7wfTaIJ5CWMySYMJ/l",
      "include_colab_link": true
    },
    "kernelspec": {
      "name": "python3",
      "display_name": "Python 3"
    },
    "language_info": {
      "name": "python"
    }
  },
  "cells": [
    {
      "cell_type": "markdown",
      "metadata": {
        "id": "view-in-github",
        "colab_type": "text"
      },
      "source": [
        "<a href=\"https://colab.research.google.com/github/rahmanziaur/EDGEICT/blob/main/Copy_of_Practice11Nov2024.ipynb\" target=\"_parent\"><img src=\"https://colab.research.google.com/assets/colab-badge.svg\" alt=\"Open In Colab\"/></a>"
      ]
    },
    {
      "cell_type": "code",
      "execution_count": null,
      "metadata": {
        "colab": {
          "base_uri": "https://localhost:8080/"
        },
        "id": "wuU-gQT03Ftx",
        "outputId": "a1ac7719-0e2f-4105-ff8f-3f981ae94538"
      },
      "outputs": [
        {
          "output_type": "stream",
          "name": "stdout",
          "text": [
            "--2024-11-07 06:06:55--  https://raw.githubusercontent.com/rahmanziaur/EDGEICT/refs/heads/main/ZiaMathTest.py\n",
            "Resolving raw.githubusercontent.com (raw.githubusercontent.com)... 185.199.108.133, 185.199.109.133, 185.199.110.133, ...\n",
            "Connecting to raw.githubusercontent.com (raw.githubusercontent.com)|185.199.108.133|:443... connected.\n",
            "HTTP request sent, awaiting response... 200 OK\n",
            "Length: 252 [text/plain]\n",
            "Saving to: ‘ZiaMathTest.py.7’\n",
            "\n",
            "\rZiaMathTest.py.7      0%[                    ]       0  --.-KB/s               \rZiaMathTest.py.7    100%[===================>]     252  --.-KB/s    in 0s      \n",
            "\n",
            "2024-11-07 06:06:55 (4.64 MB/s) - ‘ZiaMathTest.py.7’ saved [252/252]\n",
            "\n",
            "Congratulations!! Your desired Pi values have been successfully saved to output.csv!\n"
          ]
        }
      ],
      "source": [
        "import pandas as pd\n",
        "import sys\n",
        "\n",
        "!wget https://raw.githubusercontent.com/rahmanziaur/EDGEICT/refs/heads/main/ZiaMathTest.py\n",
        "\n",
        "sys.path.append('/content')\n",
        "\n",
        "import ZiaMathTest as zm\n",
        "\n",
        "df = pd.read_csv(\"input.csv\")\n",
        "\n",
        "pi_val_list =[]\n",
        "\n",
        "for i in df:\n",
        "  pi_val_list.append(zm.print_pi_to_n_digits(int(i)))\n",
        "\n",
        "output_df = pd.DataFrame(pi_val_list,  columns=[\"PI\"])\n",
        "\n",
        "output_df.to_csv('output.csv', index=False)\n",
        "\n",
        "print(\"Congratulations!! Your desired Pi values have been successfully saved to output.csv!\")\n"
      ]
    },
    {
      "cell_type": "code",
      "source": [],
      "metadata": {
        "id": "iNpZjd6fHYuk"
      },
      "execution_count": null,
      "outputs": []
    },
    {
      "cell_type": "code",
      "source": [
        "\n",
        "import pandas as pd\n",
        "import sys\n",
        "\n",
        "!wget https://raw.githubusercontent.com/rahmanziaur/EDGEICT/refs/heads/main/ZiaMathTest.py\n",
        "\n",
        "sys.path.append(\"/content\")\n",
        "df = pd.read_csv(\"testcsv.csv\")\n",
        "\n",
        "mylist =[]\n",
        "\n",
        "for i in df:\n",
        "  mylist.append(int(i))\n",
        "\n",
        "out_df = pd.DataFrame(mylist, columns=[\"PI Val\"])\n",
        "out_df.to_csv('output.csv', index=False)\n"
      ],
      "metadata": {
        "colab": {
          "base_uri": "https://localhost:8080/"
        },
        "id": "6YVP3VfmPzGH",
        "outputId": "b612f01a-807b-4bc2-a300-589f9c964134"
      },
      "execution_count": null,
      "outputs": [
        {
          "output_type": "stream",
          "name": "stdout",
          "text": [
            "--2024-11-07 06:19:49--  https://raw.githubusercontent.com/rahmanziaur/EDGEICT/refs/heads/main/ZiaMathTest.py\n",
            "Resolving raw.githubusercontent.com (raw.githubusercontent.com)... 185.199.108.133, 185.199.109.133, 185.199.110.133, ...\n",
            "Connecting to raw.githubusercontent.com (raw.githubusercontent.com)|185.199.108.133|:443... connected.\n",
            "HTTP request sent, awaiting response... 200 OK\n",
            "Length: 252 [text/plain]\n",
            "Saving to: ‘ZiaMathTest.py.1’\n",
            "\n",
            "\rZiaMathTest.py.1      0%[                    ]       0  --.-KB/s               \rZiaMathTest.py.1    100%[===================>]     252  --.-KB/s    in 0s      \n",
            "\n",
            "2024-11-07 06:19:49 (1.83 MB/s) - ‘ZiaMathTest.py.1’ saved [252/252]\n",
            "\n"
          ]
        }
      ]
    },
    {
      "cell_type": "code",
      "source": [
        "import sys\n",
        "import pandas as pd\n",
        "\n",
        "!wget https://raw.githubusercontent.com/rahmanziaur/EDGEICT/refs/heads/main/ZiaMathTest.py\n",
        "\n",
        "sys.path.append(\"/content\")\n",
        "\n",
        "import ZiaMathTest as zm\n",
        "\n",
        "df = pd.read_csv(\"https://raw.githubusercontent.com/rahmanziaur/EDGEICT/refs/heads/main/input.csv\")\n",
        "\n",
        "pi_val_list =[]\n",
        "\n",
        "for i in df:\n",
        "  pi_val_list.append(zm.print_pi_to_n_digits(int(i)))\n",
        "\n",
        "out_df = pd.DataFrame(pi_val_list, columns=[\"PI\"])\n",
        "out_df.to_csv('output.csv', index=False)\n",
        "\n",
        "print(\"Your file has been updated successfully! Thank you!!\")\n",
        "# mylist =[]\n",
        "\n",
        "# for i in df:\n",
        "#   mylist.append(zm.print_pi_to_n_digits(int(i)))\n",
        "\n",
        "# n = int(input(\"Enter number of digit:\"))\n",
        "# print(zm.print_pi_to_n_digits(n))\n"
      ],
      "metadata": {
        "colab": {
          "base_uri": "https://localhost:8080/"
        },
        "id": "R-JtnB2SHZnU",
        "outputId": "6b3f8870-39a5-4692-eeba-c573ad566ec9"
      },
      "execution_count": 10,
      "outputs": [
        {
          "output_type": "stream",
          "name": "stdout",
          "text": [
            "--2024-11-07 10:45:38--  https://raw.githubusercontent.com/rahmanziaur/EDGEICT/refs/heads/main/ZiaMathTest.py\n",
            "Resolving raw.githubusercontent.com (raw.githubusercontent.com)... 185.199.111.133, 185.199.108.133, 185.199.110.133, ...\n",
            "Connecting to raw.githubusercontent.com (raw.githubusercontent.com)|185.199.111.133|:443... connected.\n",
            "HTTP request sent, awaiting response... 200 OK\n",
            "Length: 252 [text/plain]\n",
            "Saving to: ‘ZiaMathTest.py.9’\n",
            "\n",
            "ZiaMathTest.py.9    100%[===================>]     252  --.-KB/s    in 0s      \n",
            "\n",
            "2024-11-07 10:45:39 (15.2 MB/s) - ‘ZiaMathTest.py.9’ saved [252/252]\n",
            "\n",
            "Your file has been updated successfully! Thank you!!\n"
          ]
        }
      ]
    }
  ]
}