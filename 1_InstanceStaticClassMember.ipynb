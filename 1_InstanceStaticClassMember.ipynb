{
  "nbformat": 4,
  "nbformat_minor": 0,
  "metadata": {
    "colab": {
      "provenance": [],
      "authorship_tag": "ABX9TyMIPKVs1Hx/ivC61Y7HjRsX",
      "include_colab_link": true
    },
    "kernelspec": {
      "name": "python3",
      "display_name": "Python 3"
    },
    "language_info": {
      "name": "python"
    }
  },
  "cells": [
    {
      "cell_type": "markdown",
      "metadata": {
        "id": "view-in-github",
        "colab_type": "text"
      },
      "source": [
        "<a href=\"https://colab.research.google.com/github/rahmanziaur/EDGEICTLive/blob/main/1_InstanceStaticClassMember.ipynb\" target=\"_parent\"><img src=\"https://colab.research.google.com/assets/colab-badge.svg\" alt=\"Open In Colab\"/></a>"
      ]
    },
    {
      "cell_type": "code",
      "execution_count": 1,
      "metadata": {
        "colab": {
          "base_uri": "https://localhost:8080/"
        },
        "id": "i1audvejd_Lj",
        "outputId": "e38ebe53-692c-4fe6-99a9-f49b5b025fe5"
      },
      "outputs": [
        {
          "output_type": "stream",
          "name": "stdout",
          "text": [
            "1) Accessing Private using Name Mangling\n",
            "Canine\n",
            "2) Acessing using setter and getter\n",
            "Setter Dog\n",
            "3) Accessing static function using class name\n",
            "I am a static function\n",
            "4) Accessing class method using class name\n",
            "I am a class method\n",
            "5) Passing an object, automatically calling __str__\n",
            "John is 20 years old\n"
          ]
        }
      ],
      "source": [
        "class Dog:\n",
        "\n",
        "    __species = 'Canine' #static member or class attribute\n",
        "\n",
        "    #static method comes with blank but with annotation @staticmethod\n",
        "    @staticmethod\n",
        "    def mystaticFunction():\n",
        "        print('I am a static function')\n",
        "\n",
        "    #class method comes with cls\n",
        "    @classmethod\n",
        "    def myClassMethod(cls, species):\n",
        "        cls.__species = species\n",
        "        print('I am a class method')\n",
        "\n",
        "    #instance method comes with self\n",
        "    def setSpecies(self, species):\n",
        "        self.__species = species\n",
        "    def getSpecies(self):\n",
        "        return self.__species\n",
        "\n",
        "    def __init__(self, name, age): #constuctor\n",
        "        self.name = name # instance attribute\n",
        "        self.age = age\n",
        "\n",
        "    def __str__(self): #works like a toString in Java\n",
        "        return f'{self.name} is {self.age} years old'\n",
        "\n",
        "class MainCLass:\n",
        "\n",
        "    def __init__(self):\n",
        "        pass\n",
        "\n",
        "    if __name__ == '__main__':\n",
        "        # creating an object\n",
        "        dog = Dog('John', 20)\n",
        "        #print(dog.__species) # cannot be accessed, because its private\n",
        "        print(\"1) Accessing Private using Name Mangling\")\n",
        "        print(Dog._Dog__species) #calling static attribute using class name\n",
        "\n",
        "        print(\"2) Acessing using setter and getter\")\n",
        "        dog.setSpecies('Setter Dog')\n",
        "        print(dog.getSpecies())\n",
        "\n",
        "        print(\"3) Accessing static function using class name\")\n",
        "        Dog.mystaticFunction()\n",
        "\n",
        "        print(\"4) Accessing class method using class name\")\n",
        "        Dog.myClassMethod(dog.getSpecies())\n",
        "\n",
        "        print('5) Passing an object, automatically calling __str__')\n",
        "        print(dog)"
      ]
    }
  ]
}