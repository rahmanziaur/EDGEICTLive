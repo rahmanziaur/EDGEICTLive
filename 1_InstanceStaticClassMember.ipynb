{
  "nbformat": 4,
  "nbformat_minor": 0,
  "metadata": {
    "colab": {
      "provenance": [],
      "authorship_tag": "ABX9TyPK6k2qDwYR/ffJxwTtp5Io",
      "include_colab_link": true
    },
    "kernelspec": {
      "name": "python3",
      "display_name": "Python 3"
    },
    "language_info": {
      "name": "python"
    }
  },
  "cells": [
    {
      "cell_type": "markdown",
      "metadata": {
        "id": "view-in-github",
        "colab_type": "text"
      },
      "source": [
        "<a href=\"https://colab.research.google.com/github/rahmanziaur/EDGEICTLive/blob/main/1_InstanceStaticClassMember.ipynb\" target=\"_parent\"><img src=\"https://colab.research.google.com/assets/colab-badge.svg\" alt=\"Open In Colab\"/></a>"
      ]
    },
    {
      "cell_type": "code",
      "execution_count": 1,
      "metadata": {
        "colab": {
          "base_uri": "https://localhost:8080/"
        },
        "id": "i1audvejd_Lj",
        "outputId": "e38ebe53-692c-4fe6-99a9-f49b5b025fe5"
      },
      "outputs": [
        {
          "output_type": "stream",
          "name": "stdout",
          "text": [
            "1) Accessing Private using Name Mangling\n",
            "Canine\n",
            "2) Acessing using setter and getter\n",
            "Setter Dog\n",
            "3) Accessing static function using class name\n",
            "I am a static function\n",
            "4) Accessing class method using class name\n",
            "I am a class method\n",
            "5) Passing an object, automatically calling __str__\n",
            "John is 20 years old\n"
          ]
        }
      ],
      "source": [
        "class Dog:\n",
        "\n",
        "    __species = 'Canine' #static member or class attribute\n",
        "\n",
        "    #static method comes with blank but with annotation @staticmethod\n",
        "    @staticmethod\n",
        "    def mystaticFunction():\n",
        "        print('I am a static function')\n",
        "\n",
        "    #class method comes with cls\n",
        "    @classmethod\n",
        "    def myClassMethod(cls, species):\n",
        "        cls.__species = species\n",
        "        print('I am a class method')\n",
        "\n",
        "    #instance method comes with self\n",
        "    def setSpecies(self, species):\n",
        "        self.__species = species\n",
        "    def getSpecies(self):\n",
        "        return self.__species\n",
        "\n",
        "    def __init__(self, name, age): #constuctor\n",
        "        self.name = name # instance attribute\n",
        "        self.age = age\n",
        "\n",
        "    def __str__(self): #works like a toString in Java\n",
        "        return f'{self.name} is {self.age} years old'\n",
        "\n",
        "class MainCLass:\n",
        "\n",
        "    def __init__(self):\n",
        "        pass\n",
        "\n",
        "    if __name__ == '__main__':\n",
        "        # creating an object\n",
        "        dog = Dog('John', 20)\n",
        "        #print(dog.__species) # cannot be accessed, because its private\n",
        "        print(\"1) Accessing Private using Name Mangling\")\n",
        "        print(Dog._Dog__species) #calling static attribute using class name\n",
        "\n",
        "        print(\"2) Acessing using setter and getter\")\n",
        "        dog.setSpecies('Setter Dog')\n",
        "        print(dog.getSpecies())\n",
        "\n",
        "        print(\"3) Accessing static function using class name\")\n",
        "        Dog.mystaticFunction()\n",
        "\n",
        "        print(\"4) Accessing class method using class name\")\n",
        "        Dog.myClassMethod(dog.getSpecies())\n",
        "\n",
        "        print('5) Passing an object, automatically calling __str__')\n",
        "        print(dog)"
      ]
    },
    {
      "cell_type": "markdown",
      "source": [
        "**Inheritance**"
      ],
      "metadata": {
        "id": "kL99pfj3opRp"
      }
    },
    {
      "cell_type": "code",
      "source": [
        "class Dog:\n",
        "\n",
        "# init method is constructor\n",
        "  def __init__(self, name, age):\n",
        "    self.name = name\n",
        "    self.age = age\n",
        "\n",
        "# instance method\n",
        "  def speak(self):\n",
        "    print(\"Parent Class:\\nI am a dog, Not if I can't speak\")\n",
        "\n",
        "# dunder str, helps formatting string from Object class\n",
        "  def __str__(self):\n",
        "    return f'{self.name} is {self.age} years old'\n",
        "\n",
        "  def P(self):\n",
        "    print('This is Dog Class')"
      ],
      "metadata": {
        "id": "bvUbJUWkorOI"
      },
      "execution_count": 7,
      "outputs": []
    },
    {
      "cell_type": "code",
      "source": [
        "# IraniDog is a child class of Dog Class\n",
        "class IraniDog(Dog):\n",
        "\n",
        "# childclass construcor calling parent's constructor\n",
        "  def __init__(self, name, age):\n",
        "    super().__init__(name, age)\n",
        "\n",
        "  #overriding speak\n",
        "  def speak(self):\n",
        "    print(\"Child Class:\\nI am a Irani Dog, I can speak Persian!\")\n",
        "\n",
        "  def C(self):\n",
        "    print('This is Child Class')\n"
      ],
      "metadata": {
        "id": "n35BzGDqqWfh"
      },
      "execution_count": 8,
      "outputs": []
    },
    {
      "cell_type": "code",
      "source": [
        "class TehranDog(IraniDog):\n",
        "\n",
        "  def __init__(self, name, age):\n",
        "     super().__init__(name, age)\n",
        "\n",
        "  def speak(self):\n",
        "     print('Nati Dog: I am a Tehran Dog, I can speak Persian! & English')\n",
        "\n",
        "  def N(self):\n",
        "    print('This is Nati Class')\n",
        ""
      ],
      "metadata": {
        "id": "IK7DaEiOr1lx"
      },
      "execution_count": 12,
      "outputs": []
    },
    {
      "cell_type": "code",
      "source": [
        "# class Main(Dog, IraniDog, TehranDog): # Multiple Inheritance\n",
        "\n",
        "class Main:\n",
        "  def __init__(self):\n",
        "    pass\n",
        "\n",
        "if __name__ == '__main__':\n",
        "  dog = Dog('Rotwheeler', 5)\n",
        "  dog.speak()\n",
        "\n",
        "  iraniDog = IraniDog('Persian', 10)\n",
        "  iraniDog.speak()\n",
        "\n",
        "  tehranDog = TehranDog('TehranDog', 3)\n",
        "  tehranDog.speak()\n",
        "\n",
        "  print(dog)\n",
        "  print(iraniDog)\n",
        "  print(tehranDog)"
      ],
      "metadata": {
        "colab": {
          "base_uri": "https://localhost:8080/"
        },
        "id": "IC3vkHiAqBHJ",
        "outputId": "75a48144-4030-4967-d8e3-d716d93c2c61"
      },
      "execution_count": 14,
      "outputs": [
        {
          "output_type": "stream",
          "name": "stdout",
          "text": [
            "Parent Class:\n",
            "I am a dog, Not if I can't speak\n",
            "Child Class:\n",
            "I am a Irani Dog, I can speak Persian!\n",
            "Nati Dog: I am a Tehran Dog, I can speak Persian! & English\n",
            "Rotwheeler is 5 years old\n",
            "Persian is 10 years old\n",
            "TehranDog is 3 years old\n"
          ]
        }
      ]
    },
    {
      "cell_type": "markdown",
      "source": [
        "**Multiple Inheritance**"
      ],
      "metadata": {
        "id": "3yfqciIouwo2"
      }
    },
    {
      "cell_type": "code",
      "source": [
        "class Father:\n",
        "    def show_father(self):\n",
        "        print(\"This is the Father class.\")\n",
        "\n",
        "class Mother:\n",
        "    def show_mother(self):\n",
        "        print(\"This is the Mother class.\")\n",
        "\n",
        "class Child(Father, Mother): # Multiple Inheritance\n",
        "    def show_child(self):\n",
        "        print(\"This is the Child class.\")\n"
      ],
      "metadata": {
        "id": "qh_ds99Euk0o"
      },
      "execution_count": 15,
      "outputs": []
    },
    {
      "cell_type": "code",
      "source": [
        "class Main:\n",
        "\n",
        "  def __init__(self):\n",
        "    pass\n",
        "\n",
        "  if __name__=='__main__':\n",
        "    child = Child()\n",
        "\n",
        "    child.show_father()   # Inherited from Father\n",
        "    child.show_mother()   # Inherited from Mother\n",
        "    child.show_child()    # Defined in Child\n"
      ],
      "metadata": {
        "colab": {
          "base_uri": "https://localhost:8080/"
        },
        "id": "NPXxOqTyu2Fe",
        "outputId": "3520e355-008d-4e31-d97b-4b63c07a8b3e"
      },
      "execution_count": 16,
      "outputs": [
        {
          "output_type": "stream",
          "name": "stdout",
          "text": [
            "This is the Father class.\n",
            "This is the Mother class.\n",
            "This is the Child class.\n"
          ]
        }
      ]
    }
  ]
}